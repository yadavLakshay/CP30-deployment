{
 "cells": [
  {
   "cell_type": "markdown",
   "id": "64d037ca",
   "metadata": {},
   "source": [
    "Importing Libraries"
   ]
  },
  {
   "cell_type": "code",
   "execution_count": 1,
   "id": "5a6ffa8f",
   "metadata": {},
   "outputs": [],
   "source": [
    "import numpy as np\n",
    "import matplotlib.pyplot as plt\n",
    "import pandas as pd\n",
    "import seaborn as sns\n",
    "\n",
    "import warnings\n",
    "warnings.filterwarnings(\"ignore\")"
   ]
  },
  {
   "cell_type": "code",
   "execution_count": 2,
   "id": "30494b49",
   "metadata": {},
   "outputs": [
    {
     "data": {
      "text/html": [
       "<div>\n",
       "<style scoped>\n",
       "    .dataframe tbody tr th:only-of-type {\n",
       "        vertical-align: middle;\n",
       "    }\n",
       "\n",
       "    .dataframe tbody tr th {\n",
       "        vertical-align: top;\n",
       "    }\n",
       "\n",
       "    .dataframe thead th {\n",
       "        text-align: right;\n",
       "    }\n",
       "</style>\n",
       "<table border=\"1\" class=\"dataframe\">\n",
       "  <thead>\n",
       "    <tr style=\"text-align: right;\">\n",
       "      <th></th>\n",
       "      <th>Country</th>\n",
       "      <th>City</th>\n",
       "      <th>University</th>\n",
       "      <th>Program</th>\n",
       "      <th>Level</th>\n",
       "      <th>Duration_Years</th>\n",
       "      <th>Tuition_USD</th>\n",
       "      <th>Living_Cost_Index</th>\n",
       "      <th>Rent_USD</th>\n",
       "      <th>Visa_Fee_USD</th>\n",
       "      <th>Insurance_USD</th>\n",
       "      <th>Exchange_Rate</th>\n",
       "    </tr>\n",
       "  </thead>\n",
       "  <tbody>\n",
       "    <tr>\n",
       "      <th>0</th>\n",
       "      <td>USA</td>\n",
       "      <td>Cambridge</td>\n",
       "      <td>Harvard University</td>\n",
       "      <td>Computer Science</td>\n",
       "      <td>Master</td>\n",
       "      <td>2.0</td>\n",
       "      <td>55400</td>\n",
       "      <td>83.5</td>\n",
       "      <td>2200</td>\n",
       "      <td>160</td>\n",
       "      <td>1500</td>\n",
       "      <td>1.00</td>\n",
       "    </tr>\n",
       "    <tr>\n",
       "      <th>1</th>\n",
       "      <td>UK</td>\n",
       "      <td>London</td>\n",
       "      <td>Imperial College London</td>\n",
       "      <td>Data Science</td>\n",
       "      <td>Master</td>\n",
       "      <td>1.0</td>\n",
       "      <td>41200</td>\n",
       "      <td>75.8</td>\n",
       "      <td>1800</td>\n",
       "      <td>485</td>\n",
       "      <td>800</td>\n",
       "      <td>0.79</td>\n",
       "    </tr>\n",
       "    <tr>\n",
       "      <th>2</th>\n",
       "      <td>Canada</td>\n",
       "      <td>Toronto</td>\n",
       "      <td>University of Toronto</td>\n",
       "      <td>Business Analytics</td>\n",
       "      <td>Master</td>\n",
       "      <td>2.0</td>\n",
       "      <td>38500</td>\n",
       "      <td>72.5</td>\n",
       "      <td>1600</td>\n",
       "      <td>235</td>\n",
       "      <td>900</td>\n",
       "      <td>1.35</td>\n",
       "    </tr>\n",
       "    <tr>\n",
       "      <th>3</th>\n",
       "      <td>Australia</td>\n",
       "      <td>Melbourne</td>\n",
       "      <td>University of Melbourne</td>\n",
       "      <td>Engineering</td>\n",
       "      <td>Master</td>\n",
       "      <td>2.0</td>\n",
       "      <td>42000</td>\n",
       "      <td>71.2</td>\n",
       "      <td>1400</td>\n",
       "      <td>450</td>\n",
       "      <td>650</td>\n",
       "      <td>1.52</td>\n",
       "    </tr>\n",
       "    <tr>\n",
       "      <th>4</th>\n",
       "      <td>Germany</td>\n",
       "      <td>Munich</td>\n",
       "      <td>Technical University of Munich</td>\n",
       "      <td>Mechanical Engineering</td>\n",
       "      <td>Master</td>\n",
       "      <td>2.0</td>\n",
       "      <td>500</td>\n",
       "      <td>70.5</td>\n",
       "      <td>1100</td>\n",
       "      <td>75</td>\n",
       "      <td>550</td>\n",
       "      <td>0.92</td>\n",
       "    </tr>\n",
       "  </tbody>\n",
       "</table>\n",
       "</div>"
      ],
      "text/plain": [
       "     Country       City                      University  \\\n",
       "0        USA  Cambridge              Harvard University   \n",
       "1         UK     London         Imperial College London   \n",
       "2     Canada    Toronto           University of Toronto   \n",
       "3  Australia  Melbourne         University of Melbourne   \n",
       "4    Germany     Munich  Technical University of Munich   \n",
       "\n",
       "                  Program   Level  Duration_Years  Tuition_USD  \\\n",
       "0        Computer Science  Master             2.0        55400   \n",
       "1            Data Science  Master             1.0        41200   \n",
       "2      Business Analytics  Master             2.0        38500   \n",
       "3             Engineering  Master             2.0        42000   \n",
       "4  Mechanical Engineering  Master             2.0          500   \n",
       "\n",
       "   Living_Cost_Index  Rent_USD  Visa_Fee_USD  Insurance_USD  Exchange_Rate  \n",
       "0               83.5      2200           160           1500           1.00  \n",
       "1               75.8      1800           485            800           0.79  \n",
       "2               72.5      1600           235            900           1.35  \n",
       "3               71.2      1400           450            650           1.52  \n",
       "4               70.5      1100            75            550           0.92  "
      ]
     },
     "execution_count": 2,
     "metadata": {},
     "output_type": "execute_result"
    }
   ],
   "source": [
    "#loading the data\n",
    "df = pd.read_csv(r'C:\\Users\\ABCD\\OneDrive\\Documents\\_CP30-EduSpend\\SDS-CP030-edu-spend\\submissions\\team-members\\lakshay-yadav\\data\\International_Education_Costs.csv')\n",
    "df.head()"
   ]
  },
  {
   "cell_type": "code",
   "execution_count": 3,
   "id": "321780de",
   "metadata": {},
   "outputs": [
    {
     "name": "stdout",
     "output_type": "stream",
     "text": [
      "<class 'pandas.core.frame.DataFrame'>\n",
      "RangeIndex: 907 entries, 0 to 906\n",
      "Data columns (total 12 columns):\n",
      " #   Column             Non-Null Count  Dtype  \n",
      "---  ------             --------------  -----  \n",
      " 0   Country            907 non-null    object \n",
      " 1   City               907 non-null    object \n",
      " 2   University         907 non-null    object \n",
      " 3   Program            907 non-null    object \n",
      " 4   Level              907 non-null    object \n",
      " 5   Duration_Years     907 non-null    float64\n",
      " 6   Tuition_USD        907 non-null    int64  \n",
      " 7   Living_Cost_Index  907 non-null    float64\n",
      " 8   Rent_USD           907 non-null    int64  \n",
      " 9   Visa_Fee_USD       907 non-null    int64  \n",
      " 10  Insurance_USD      907 non-null    int64  \n",
      " 11  Exchange_Rate      907 non-null    float64\n",
      "dtypes: float64(3), int64(4), object(5)\n",
      "memory usage: 85.2+ KB\n"
     ]
    }
   ],
   "source": [
    "df.info()"
   ]
  },
  {
   "cell_type": "code",
   "execution_count": 4,
   "id": "552929cc",
   "metadata": {},
   "outputs": [
    {
     "data": {
      "text/html": [
       "<div>\n",
       "<style scoped>\n",
       "    .dataframe tbody tr th:only-of-type {\n",
       "        vertical-align: middle;\n",
       "    }\n",
       "\n",
       "    .dataframe tbody tr th {\n",
       "        vertical-align: top;\n",
       "    }\n",
       "\n",
       "    .dataframe thead th {\n",
       "        text-align: right;\n",
       "    }\n",
       "</style>\n",
       "<table border=\"1\" class=\"dataframe\">\n",
       "  <thead>\n",
       "    <tr style=\"text-align: right;\">\n",
       "      <th></th>\n",
       "      <th>Duration_Years</th>\n",
       "      <th>Tuition_USD</th>\n",
       "      <th>Living_Cost_Index</th>\n",
       "      <th>Rent_USD</th>\n",
       "      <th>Visa_Fee_USD</th>\n",
       "      <th>Insurance_USD</th>\n",
       "      <th>Exchange_Rate</th>\n",
       "    </tr>\n",
       "  </thead>\n",
       "  <tbody>\n",
       "    <tr>\n",
       "      <th>count</th>\n",
       "      <td>907.000000</td>\n",
       "      <td>907.000000</td>\n",
       "      <td>907.000000</td>\n",
       "      <td>907.000000</td>\n",
       "      <td>907.000000</td>\n",
       "      <td>907.000000</td>\n",
       "      <td>907.000000</td>\n",
       "    </tr>\n",
       "    <tr>\n",
       "      <th>mean</th>\n",
       "      <td>2.836825</td>\n",
       "      <td>16705.016538</td>\n",
       "      <td>64.437486</td>\n",
       "      <td>969.206174</td>\n",
       "      <td>211.396913</td>\n",
       "      <td>700.077178</td>\n",
       "      <td>623.000695</td>\n",
       "    </tr>\n",
       "    <tr>\n",
       "      <th>std</th>\n",
       "      <td>0.945449</td>\n",
       "      <td>16582.385275</td>\n",
       "      <td>14.056333</td>\n",
       "      <td>517.154752</td>\n",
       "      <td>143.435740</td>\n",
       "      <td>320.374875</td>\n",
       "      <td>3801.746134</td>\n",
       "    </tr>\n",
       "    <tr>\n",
       "      <th>min</th>\n",
       "      <td>1.000000</td>\n",
       "      <td>0.000000</td>\n",
       "      <td>27.800000</td>\n",
       "      <td>150.000000</td>\n",
       "      <td>40.000000</td>\n",
       "      <td>200.000000</td>\n",
       "      <td>0.150000</td>\n",
       "    </tr>\n",
       "    <tr>\n",
       "      <th>25%</th>\n",
       "      <td>2.000000</td>\n",
       "      <td>2850.000000</td>\n",
       "      <td>56.300000</td>\n",
       "      <td>545.000000</td>\n",
       "      <td>100.000000</td>\n",
       "      <td>450.000000</td>\n",
       "      <td>0.920000</td>\n",
       "    </tr>\n",
       "    <tr>\n",
       "      <th>50%</th>\n",
       "      <td>3.000000</td>\n",
       "      <td>7500.000000</td>\n",
       "      <td>67.500000</td>\n",
       "      <td>900.000000</td>\n",
       "      <td>160.000000</td>\n",
       "      <td>650.000000</td>\n",
       "      <td>1.350000</td>\n",
       "    </tr>\n",
       "    <tr>\n",
       "      <th>75%</th>\n",
       "      <td>4.000000</td>\n",
       "      <td>31100.000000</td>\n",
       "      <td>72.200000</td>\n",
       "      <td>1300.000000</td>\n",
       "      <td>240.000000</td>\n",
       "      <td>800.000000</td>\n",
       "      <td>7.150000</td>\n",
       "    </tr>\n",
       "    <tr>\n",
       "      <th>max</th>\n",
       "      <td>5.000000</td>\n",
       "      <td>62000.000000</td>\n",
       "      <td>122.400000</td>\n",
       "      <td>2500.000000</td>\n",
       "      <td>490.000000</td>\n",
       "      <td>1500.000000</td>\n",
       "      <td>42150.000000</td>\n",
       "    </tr>\n",
       "  </tbody>\n",
       "</table>\n",
       "</div>"
      ],
      "text/plain": [
       "       Duration_Years   Tuition_USD  Living_Cost_Index     Rent_USD  \\\n",
       "count      907.000000    907.000000         907.000000   907.000000   \n",
       "mean         2.836825  16705.016538          64.437486   969.206174   \n",
       "std          0.945449  16582.385275          14.056333   517.154752   \n",
       "min          1.000000      0.000000          27.800000   150.000000   \n",
       "25%          2.000000   2850.000000          56.300000   545.000000   \n",
       "50%          3.000000   7500.000000          67.500000   900.000000   \n",
       "75%          4.000000  31100.000000          72.200000  1300.000000   \n",
       "max          5.000000  62000.000000         122.400000  2500.000000   \n",
       "\n",
       "       Visa_Fee_USD  Insurance_USD  Exchange_Rate  \n",
       "count    907.000000     907.000000     907.000000  \n",
       "mean     211.396913     700.077178     623.000695  \n",
       "std      143.435740     320.374875    3801.746134  \n",
       "min       40.000000     200.000000       0.150000  \n",
       "25%      100.000000     450.000000       0.920000  \n",
       "50%      160.000000     650.000000       1.350000  \n",
       "75%      240.000000     800.000000       7.150000  \n",
       "max      490.000000    1500.000000   42150.000000  "
      ]
     },
     "execution_count": 4,
     "metadata": {},
     "output_type": "execute_result"
    }
   ],
   "source": [
    "df.describe()"
   ]
  },
  {
   "cell_type": "markdown",
   "id": "bf266fd1",
   "metadata": {},
   "source": [
    "Checking for Missing Values"
   ]
  },
  {
   "cell_type": "code",
   "execution_count": 5,
   "id": "6196c4ef",
   "metadata": {},
   "outputs": [
    {
     "data": {
      "text/plain": [
       "Country              0.0\n",
       "City                 0.0\n",
       "University           0.0\n",
       "Program              0.0\n",
       "Level                0.0\n",
       "Duration_Years       0.0\n",
       "Tuition_USD          0.0\n",
       "Living_Cost_Index    0.0\n",
       "Rent_USD             0.0\n",
       "Visa_Fee_USD         0.0\n",
       "Insurance_USD        0.0\n",
       "Exchange_Rate        0.0\n",
       "dtype: float64"
      ]
     },
     "execution_count": 5,
     "metadata": {},
     "output_type": "execute_result"
    }
   ],
   "source": [
    "# Check for missing data\n",
    "df.isnull().sum().sort_values(ascending=False)\n",
    "\n",
    "# Percentage of missing values\n",
    "df.isnull().mean() * 100"
   ]
  },
  {
   "cell_type": "markdown",
   "id": "99d51a84",
   "metadata": {},
   "source": [
    "Plot Feature Distributions"
   ]
  },
  {
   "cell_type": "code",
   "execution_count": 6,
   "id": "d386efdf",
   "metadata": {},
   "outputs": [
    {
     "data": {
      "image/png": "[encoded data removed]",
      "text/plain": [
       "<Figure size 640x480 with 1 Axes>"
      ]
     },
     "metadata": {},
     "output_type": "display_data"
    },
    {
     "data": {
      "image/png": "[encoded data removed]",
      "text/plain": [
       "<Figure size 640x480 with 1 Axes>"
      ]
     },
     "metadata": {},
     "output_type": "display_data"
    }
   ],
   "source": [
    "# Tuition Distribution\n",
    "sns.histplot(df['Tuition_USD'], kde=True)\n",
    "plt.title('Tuition Distribution')\n",
    "plt.show()\n",
    "\n",
    "# Rent Distribution\n",
    "sns.histplot(df['Rent_USD'], kde=True)\n",
    "plt.title('Rent Distribution')\n",
    "plt.show()"
   ]
  },
  {
   "cell_type": "markdown",
   "id": "2189d919",
   "metadata": {},
   "source": [
    "Correlation Heatmap"
   ]
  },
  {
   "cell_type": "code",
   "execution_count": 7,
   "id": "b925b7ac",
   "metadata": {},
   "outputs": [
    {
     "data": {
      "image/png": "[encoded data removed]",
      "text/plain": [
       "<Figure size 1000x600 with 2 Axes>"
      ]
     },
     "metadata": {},
     "output_type": "display_data"
    }
   ],
   "source": [
    "plt.figure(figsize=(10,6))\n",
    "sns.heatmap(df.corr(numeric_only=True), annot=True, cmap='coolwarm')\n",
    "plt.title('Correlation Between Variables')\n",
    "plt.show()"
   ]
  },
  {
   "cell_type": "markdown",
   "id": "5af05b4d",
   "metadata": {},
   "source": [
    "Computing Total Cost of Attendance (TCA): (tuition + rent × months + visa + insurance × years)"
   ]
  },
  {
   "cell_type": "code",
   "execution_count": 8,
   "id": "3ebaf12a",
   "metadata": {},
   "outputs": [
    {
     "data": {
      "text/html": [
       "<div>\n",
       "<style scoped>\n",
       "    .dataframe tbody tr th:only-of-type {\n",
       "        vertical-align: middle;\n",
       "    }\n",
       "\n",
       "    .dataframe tbody tr th {\n",
       "        vertical-align: top;\n",
       "    }\n",
       "\n",
       "    .dataframe thead th {\n",
       "        text-align: right;\n",
       "    }\n",
       "</style>\n",
       "<table border=\"1\" class=\"dataframe\">\n",
       "  <thead>\n",
       "    <tr style=\"text-align: right;\">\n",
       "      <th></th>\n",
       "      <th>Country</th>\n",
       "      <th>City</th>\n",
       "      <th>Level</th>\n",
       "      <th>TCA</th>\n",
       "    </tr>\n",
       "  </thead>\n",
       "  <tbody>\n",
       "    <tr>\n",
       "      <th>0</th>\n",
       "      <td>USA</td>\n",
       "      <td>Cambridge</td>\n",
       "      <td>Master</td>\n",
       "      <td>83460</td>\n",
       "    </tr>\n",
       "    <tr>\n",
       "      <th>1</th>\n",
       "      <td>UK</td>\n",
       "      <td>London</td>\n",
       "      <td>Master</td>\n",
       "      <td>64085</td>\n",
       "    </tr>\n",
       "    <tr>\n",
       "      <th>2</th>\n",
       "      <td>Canada</td>\n",
       "      <td>Toronto</td>\n",
       "      <td>Master</td>\n",
       "      <td>58835</td>\n",
       "    </tr>\n",
       "    <tr>\n",
       "      <th>3</th>\n",
       "      <td>Australia</td>\n",
       "      <td>Melbourne</td>\n",
       "      <td>Master</td>\n",
       "      <td>59900</td>\n",
       "    </tr>\n",
       "    <tr>\n",
       "      <th>4</th>\n",
       "      <td>Germany</td>\n",
       "      <td>Munich</td>\n",
       "      <td>Master</td>\n",
       "      <td>14325</td>\n",
       "    </tr>\n",
       "  </tbody>\n",
       "</table>\n",
       "</div>"
      ],
      "text/plain": [
       "     Country       City   Level    TCA\n",
       "0        USA  Cambridge  Master  83460\n",
       "1         UK     London  Master  64085\n",
       "2     Canada    Toronto  Master  58835\n",
       "3  Australia  Melbourne  Master  59900\n",
       "4    Germany     Munich  Master  14325"
      ]
     },
     "execution_count": 8,
     "metadata": {},
     "output_type": "execute_result"
    }
   ],
   "source": [
    "# Assuming standard duration and months\n",
    "DURATION_YEARS = 1\n",
    "MONTHS = 12\n",
    "\n",
    "df['TCA'] = df['Tuition_USD'] + (df['Rent_USD'] * MONTHS) + df['Visa_Fee_USD'] + (df['Insurance_USD'] * DURATION_YEARS)\n",
    "df[['Country', 'City', 'Level', 'TCA']].head()"
   ]
  },
  {
   "cell_type": "markdown",
   "id": "1da77b54",
   "metadata": {},
   "source": [
    "Visualizing TCA by Country and Degree Level"
   ]
  },
  {
   "cell_type": "code",
   "execution_count": 9,
   "id": "4e59e2e3",
   "metadata": {},
   "outputs": [
    {
     "data": {
      "application/vnd.plotly.v1+json": {
       "config": {
        "plotlyServerURL": "https://plot.ly"
       },
       "data": [
        {
         "alignmentgroup": "True",
         "hovertemplate": "Country=%{x}<br>TCA=%{y}<extra></extra>",
         "legendgroup": "",
         "marker": {
          "color": "#636efa",
          "pattern": {
           "shape": ""
          }
         },
         "name": "",
         "offsetgroup": "",
         "orientation": "v",
         "showlegend": false,
         "textposition": "auto",
         "type": "bar",
         "x": [
          "USA",
          "Australia",
          "Singapore",
          "UK",
          "Canada",
          "New Zealand",
          "Hong Kong",
          "UAE",
          "Ireland",
          "Israel",
          "Netherlands",
          "Switzerland",
          "Kuwait",
          "Lebanon",
          "France",
          "Czech Republic",
          "Japan",
          "Italy",
          "Denmark",
          "Bahrain",
          "Luxembourg",
          "China",
          "South Korea",
          "Belgium",
          "Cyprus",
          "Taiwan",
          "Thailand",
          "Saudi Arabia",
          "Spain",
          "South Africa",
          "Portugal",
          "Norway",
          "Iceland",
          "Malaysia",
          "Germany",
          "Panama",
          "Mexico",
          "Austria",
          "Sweden",
          "Ecuador",
          "Finland",
          "Peru",
          "Russia",
          "Hungary",
          "Poland",
          "Slovenia",
          "El Salvador",
          "Dominican Republic",
          "Vietnam",
          "Croatia",
          "Ukraine",
          "Indonesia",
          "Egypt",
          "Nigeria",
          "Uruguay",
          "Bulgaria",
          "Colombia",
          "Iran",
          "Ghana",
          "Brazil",
          "Romania",
          "Turkey",
          "Uzbekistan",
          "Serbia",
          "Greece",
          "India",
          "Morocco",
          "Bangladesh",
          "Argentina",
          "Tunisia",
          "Algeria"
         ],
         "xaxis": "x",
         "y": [
          71710,
          52050,
          51795.555555555555,
          46223.17204301075,
          44387.63157894737,
          42320.555555555555,
          40720,
          36363.75,
          32330,
          27350,
          26477.52380952381,
          23048.8,
          21232,
          20538,
          18234.185185185186,
          18100,
          17945,
          16040.588235294117,
          16011.333333333334,
          15890,
          15528.57142857143,
          15493.333333333334,
          14873.478260869566,
          14452.222222222223,
          14370,
          14190,
          14181.25,
          13947,
          13784.70588235294,
          13640,
          13425.555555555555,
          13375.90909090909,
          13240,
          12925,
          12508.333333333334,
          12332,
          12233.333333333334,
          12004.444444444445,
          11898,
          11720,
          11265.454545454546,
          11180,
          10638.888888888889,
          10465,
          10031.25,
          9830,
          9170,
          9016,
          8970,
          8743.333333333334,
          8020,
          7888.75,
          7820,
          7780,
          7724,
          7690,
          7690,
          7190,
          7154,
          7093.75,
          6992.857142857143,
          6820,
          6790,
          6578,
          6547.058823529412,
          6132.5,
          5630,
          4824,
          3903.3333333333335,
          3880,
          3804
         ],
         "yaxis": "y"
        }
       ],
       "layout": {
        "barmode": "relative",
        "legend": {
         "tracegroupgap": 0
        },
        "template": {
         "data": {
          "bar": [
           {
            "error_x": {
             "color": "#2a3f5f"
            },
            "error_y": {
             "color": "#2a3f5f"
            },
            "marker": {
             "line": {
              "color": "#E5ECF6",
              "width": 0.5
             },
             "pattern": {
              "fillmode": "overlay",
              "size": 10,
              "solidity": 0.2
             }
            },
            "type": "bar"
           }
          ],
          "barpolar": [
           {
            "marker": {
             "line": {
              "color": "#E5ECF6",
              "width": 0.5
             },
             "pattern": {
              "fillmode": "overlay",
              "size": 10,
              "solidity": 0.2
             }
            },
            "type": "barpolar"
           }
          ],
          "carpet": [
           {
            "aaxis": {
             "endlinecolor": "#2a3f5f",
             "gridcolor": "white",
             "linecolor": "white",
             "minorgridcolor": "white",
             "startlinecolor": "#2a3f5f"
            },
            "baxis": {
             "endlinecolor": "#2a3f5f",
             "gridcolor": "white",
             "linecolor": "white",
             "minorgridcolor": "white",
             "startlinecolor": "#2a3f5f"
            },
            "type": "carpet"
           }
          ],
          "choropleth": [
           {
            "colorbar": {
             "outlinewidth": 0,
             "ticks": ""
            },
            "type": "choropleth"
           }
          ],
          "contour": [
           {
            "colorbar": {
             "outlinewidth": 0,
             "ticks": ""
            },
            "colorscale": [
             [
              0,
              "#0d0887"
             ],
             [
              0.1111111111111111,
              "#46039f"
             ],
             [
              0.2222222222222222,
              "#7201a8"
             ],
             [
              0.3333333333333333,
              "#9c179e"
             ],
             [
              0.4444444444444444,
              "#bd3786"
             ],
             [
              0.5555555555555556,
              "#d8576b"
             ],
             [
              0.6666666666666666,
              "#ed7953"
             ],
             [
              0.7777777777777778,
              "#fb9f3a"
             ],
             [
              0.8888888888888888,
              "#fdca26"
             ],
             [
              1,
              "#f0f921"
             ]
            ],
            "type": "contour"
           }
          ],
          "contourcarpet": [
           {
            "colorbar": {
             "outlinewidth": 0,
             "ticks": ""
            },
            "type": "contourcarpet"
           }
          ],
          "heatmap": [
           {
            "colorbar": {
             "outlinewidth": 0,
             "ticks": ""
            },
            "colorscale": [
             [
              0,
              "#0d0887"
             ],
             [
              0.1111111111111111,
              "#46039f"
             ],
             [
              0.2222222222222222,
              "#7201a8"
             ],
             [
              0.3333333333333333,
              "#9c179e"
             ],
             [
              0.4444444444444444,
              "#bd3786"
             ],
             [
              0.5555555555555556,
              "#d8576b"
             ],
             [
              0.6666666666666666,
              "#ed7953"
             ],
             [
              0.7777777777777778,
              "#fb9f3a"
             ],
             [
              0.8888888888888888,
              "#fdca26"
             ],
             [
              1,
              "#f0f921"
             ]
            ],
            "type": "heatmap"
           }
          ],
          "heatmapgl": [
           {
            "colorbar": {
             "outlinewidth": 0,
             "ticks": ""
            },
            "colorscale": [
             [
              0,
              "#0d0887"
             ],
             [
              0.1111111111111111,
              "#46039f"
             ],
             [
              0.2222222222222222,
              "#7201a8"
             ],
             [
              0.3333333333333333,
              "#9c179e"
             ],
             [
              0.4444444444444444,
              "#bd3786"
             ],
             [
              0.5555555555555556,
              "#d8576b"
             ],
             [
              0.6666666666666666,
              "#ed7953"
             ],
             [
              0.7777777777777778,
              "#fb9f3a"
             ],
             [
              0.8888888888888888,
              "#fdca26"
             ],
             [
              1,
              "#f0f921"
             ]
            ],
            "type": "heatmapgl"
           }
          ],
          "histogram": [
           {
            "marker": {
             "pattern": {
              "fillmode": "overlay",
              "size": 10,
              "solidity": 0.2
             }
            },
            "type": "histogram"
           }
          ],
          "histogram2d": [
           {
            "colorbar": {
             "outlinewidth": 0,
             "ticks": ""
            },
            "colorscale": [
             [
              0,
              "#0d0887"
             ],
             [
              0.1111111111111111,
              "#46039f"
             ],
             [
              0.2222222222222222,
              "#7201a8"
             ],
             [
              0.3333333333333333,
              "#9c179e"
             ],
             [
              0.4444444444444444,
              "#bd3786"
             ],
             [
              0.5555555555555556,
              "#d8576b"
             ],
             [
              0.6666666666666666,
              "#ed7953"
             ],
             [
              0.7777777777777778,
              "#fb9f3a"
             ],
             [
              0.8888888888888888,
              "#fdca26"
             ],
             [
              1,
              "#f0f921"
             ]
            ],
            "type": "histogram2d"
           }
          ],
          "histogram2dcontour": [
           {
            "colorbar": {
             "outlinewidth": 0,
             "ticks": ""
            },
            "colorscale": [
             [
              0,
              "#0d0887"
             ],
             [
              0.1111111111111111,
              "#46039f"
             ],
             [
              0.2222222222222222,
              "#7201a8"
             ],
             [
              0.3333333333333333,
              "#9c179e"
             ],
             [
              0.4444444444444444,
              "#bd3786"
             ],
             [
              0.5555555555555556,
              "#d8576b"
             ],
             [
              0.6666666666666666,
              "#ed7953"
             ],
             [
              0.7777777777777778,
              "#fb9f3a"
             ],
             [
              0.8888888888888888,
              "#fdca26"
             ],
             [
              1,
              "#f0f921"
             ]
            ],
            "type": "histogram2dcontour"
           }
          ],
          "mesh3d": [
           {
            "colorbar": {
             "outlinewidth": 0,
             "ticks": ""
            },
            "type": "mesh3d"
           }
          ],
          "parcoords": [
           {
            "line": {
             "colorbar": {
              "outlinewidth": 0,
              "ticks": ""
             }
            },
            "type": "parcoords"
           }
          ],
          "pie": [
           {
            "automargin": true,
            "type": "pie"
           }
          ],
          "scatter": [
           {
            "fillpattern": {
             "fillmode": "overlay",
             "size": 10,
             "solidity": 0.2
            },
            "type": "scatter"
           }
          ],
          "scatter3d": [
           {
            "line": {
             "colorbar": {
              "outlinewidth": 0,
              "ticks": ""
             }
            },
            "marker": {
             "colorbar": {
              "outlinewidth": 0,
              "ticks": ""
             }
            },
            "type": "scatter3d"
           }
          ],
          "scattercarpet": [
           {
            "marker": {
             "colorbar": {
              "outlinewidth": 0,
              "ticks": ""
             }
            },
            "type": "scattercarpet"
           }
          ],
          "scattergeo": [
           {
            "marker": {
             "colorbar": {
              "outlinewidth": 0,
              "ticks": ""
             }
            },
            "type": "scattergeo"
           }
          ],
          "scattergl": [
           {
            "marker": {
             "colorbar": {
              "outlinewidth": 0,
              "ticks": ""
             }
            },
            "type": "scattergl"
           }
          ],
          "scattermapbox": [
           {
            "marker": {
             "colorbar": {
              "outlinewidth": 0,
              "ticks": ""
             }
            },
            "type": "scattermapbox"
           }
          ],
          "scatterpolar": [
           {
            "marker": {
             "colorbar": {
              "outlinewidth": 0,
              "ticks": ""
             }
            },
            "type": "scatterpolar"
           }
          ],
          "scatterpolargl": [
           {
            "marker": {
             "colorbar": {
              "outlinewidth": 0,
              "ticks": ""
             }
            },
            "type": "scatterpolargl"
           }
          ],
          "scatterternary": [
           {
            "marker": {
             "colorbar": {
              "outlinewidth": 0,
              "ticks": ""
             }
            },
            "type": "scatterternary"
           }
          ],
          "surface": [
           {
            "colorbar": {
             "outlinewidth": 0,
             "ticks": ""
            },
            "colorscale": [
             [
              0,
              "#0d0887"
             ],
             [
              0.1111111111111111,
              "#46039f"
             ],
             [
              0.2222222222222222,
              "#7201a8"
             ],
             [
              0.3333333333333333,
              "#9c179e"
             ],
             [
              0.4444444444444444,
              "#bd3786"
             ],
             [
              0.5555555555555556,
              "#d8576b"
             ],
             [
              0.6666666666666666,
              "#ed7953"
             ],
             [
              0.7777777777777778,
              "#fb9f3a"
             ],
             [
              0.8888888888888888,
              "#fdca26"
             ],
             [
              1,
              "#f0f921"
             ]
            ],
            "type": "surface"
           }
          ],
          "table": [
           {
            "cells": {
             "fill": {
              "color": "#EBF0F8"
             },
             "line": {
              "color": "white"
             }
            },
            "header": {
             "fill": {
              "color": "#C8D4E3"
             },
             "line": {
              "color": "white"
             }
            },
            "type": "table"
           }
          ]
         },
         "layout": {
          "annotationdefaults": {
           "arrowcolor": "#2a3f5f",
           "arrowhead": 0,
           "arrowwidth": 1
          },
          "autotypenumbers": "strict",
          "coloraxis": {
           "colorbar": {
            "outlinewidth": 0,
            "ticks": ""
           }
          },
          "colorscale": {
           "diverging": [
            [
             0,
             "#8e0152"
            ],
            [
             0.1,
             "#c51b7d"
            ],
            [
             0.2,
             "#de77ae"
            ],
            [
             0.3,
             "#f1b6da"
            ],
            [
             0.4,
             "#fde0ef"
            ],
            [
             0.5,
             "#f7f7f7"
            ],
            [
             0.6,
             "#e6f5d0"
            ],
            [
             0.7,
             "#b8e186"
            ],
            [
             0.8,
             "#7fbc41"
            ],
            [
             0.9,
             "#4d9221"
            ],
            [
             1,
             "#276419"
            ]
           ],
           "sequential": [
            [
             0,
             "#0d0887"
            ],
            [
             0.1111111111111111,
             "#46039f"
            ],
            [
             0.2222222222222222,
             "#7201a8"
            ],
            [
             0.3333333333333333,
             "#9c179e"
            ],
            [
             0.4444444444444444,
             "#bd3786"
            ],
            [
             0.5555555555555556,
             "#d8576b"
            ],
            [
             0.6666666666666666,
             "#ed7953"
            ],
            [
             0.7777777777777778,
             "#fb9f3a"
            ],
            [
             0.8888888888888888,
             "#fdca26"
            ],
            [
             1,
             "#f0f921"
            ]
           ],
           "sequentialminus": [
            [
             0,
             "#0d0887"
            ],
            [
             0.1111111111111111,
             "#46039f"
            ],
            [
             0.2222222222222222,
             "#7201a8"
            ],
            [
             0.3333333333333333,
             "#9c179e"
            ],
            [
             0.4444444444444444,
             "#bd3786"
            ],
            [
             0.5555555555555556,
             "#d8576b"
            ],
            [
             0.6666666666666666,
             "#ed7953"
            ],
            [
             0.7777777777777778,
             "#fb9f3a"
            ],
            [
             0.8888888888888888,
             "#fdca26"
            ],
            [
             1,
             "#f0f921"
            ]
           ]
          },
          "colorway": [
           "#636efa",
           "#EF553B",
           "#00cc96",
           "#ab63fa",
           "#FFA15A",
           "#19d3f3",
           "#FF6692",
           "#B6E880",
           "#FF97FF",
           "#FECB52"
          ],
          "font": {
           "color": "#2a3f5f"
          },
          "geo": {
           "bgcolor": "white",
           "lakecolor": "white",
           "landcolor": "#E5ECF6",
           "showlakes": true,
           "showland": true,
           "subunitcolor": "white"
          },
          "hoverlabel": {
           "align": "left"
          },
          "hovermode": "closest",
          "mapbox": {
           "style": "light"
          },
          "paper_bgcolor": "white",
          "plot_bgcolor": "#E5ECF6",
          "polar": {
           "angularaxis": {
            "gridcolor": "white",
            "linecolor": "white",
            "ticks": ""
           },
           "bgcolor": "#E5ECF6",
           "radialaxis": {
            "gridcolor": "white",
            "linecolor": "white",
            "ticks": ""
           }
          },
          "scene": {
           "xaxis": {
            "backgroundcolor": "#E5ECF6",
            "gridcolor": "white",
            "gridwidth": 2,
            "linecolor": "white",
            "showbackground": true,
            "ticks": "",
            "zerolinecolor": "white"
           },
           "yaxis": {
            "backgroundcolor": "#E5ECF6",
            "gridcolor": "white",
            "gridwidth": 2,
            "linecolor": "white",
            "showbackground": true,
            "ticks": "",
            "zerolinecolor": "white"
           },
           "zaxis": {
            "backgroundcolor": "#E5ECF6",
            "gridcolor": "white",
            "gridwidth": 2,
            "linecolor": "white",
            "showbackground": true,
            "ticks": "",
            "zerolinecolor": "white"
           }
          },
          "shapedefaults": {
           "line": {
            "color": "#2a3f5f"
           }
          },
          "ternary": {
           "aaxis": {
            "gridcolor": "white",
            "linecolor": "white",
            "ticks": ""
           },
           "baxis": {
            "gridcolor": "white",
            "linecolor": "white",
            "ticks": ""
           },
           "bgcolor": "#E5ECF6",
           "caxis": {
            "gridcolor": "white",
            "linecolor": "white",
            "ticks": ""
           }
          },
          "title": {
           "x": 0.05
          },
          "xaxis": {
           "automargin": true,
           "gridcolor": "white",
           "linecolor": "white",
           "ticks": "",
           "title": {
            "standoff": 15
           },
           "zerolinecolor": "white",
           "zerolinewidth": 2
          },
          "yaxis": {
           "automargin": true,
           "gridcolor": "white",
           "linecolor": "white",
           "ticks": "",
           "title": {
            "standoff": 15
           },
           "zerolinecolor": "white",
           "zerolinewidth": 2
          }
         }
        },
        "title": {
         "text": "Average TCA by Country"
        },
        "xaxis": {
         "anchor": "y",
         "domain": [
          0,
          1
         ],
         "title": {
          "text": "Country"
         }
        },
        "yaxis": {
         "anchor": "x",
         "domain": [
          0,
          1
         ],
         "title": {
          "text": "TCA"
         }
        }
       }
      }
     },
     "metadata": {},
     "output_type": "display_data"
    },
    {
     "data": {
      "application/vnd.plotly.v1+json": {
       "config": {
        "plotlyServerURL": "https://plot.ly"
       },
       "data": [
        {
         "alignmentgroup": "True",
         "hovertemplate": "Level=%{x}<br>TCA=%{y}<extra></extra>",
         "legendgroup": "",
         "marker": {
          "color": "#636efa"
         },
         "name": "",
         "notched": false,
         "offsetgroup": "",
         "orientation": "v",
         "showlegend": false,
         "type": "box",
         "x": [
          "Master",
          "Master",
          "Master",
          "Master",
          "Master",
          "Master",
          "Master",
          "Master",
          "Master",
          "Master",
          "Master",
          "Master",
          "Master",
          "Master",
          "Master",
          "Bachelor",
          "Bachelor",
          "Bachelor",
          "Bachelor",
          "Bachelor",
          "Bachelor",
          "Bachelor",
          "Bachelor",
          "Bachelor",
          "Bachelor",
          "Bachelor",
          "Bachelor",
          "Bachelor",
          "Bachelor",
          "PhD",
          "PhD",
          "PhD",
          "PhD",
          "PhD",
          "PhD",
          "PhD",
          "PhD",
          "PhD",
          "PhD",
          "PhD",
          "Bachelor",
          "Master",
          "PhD",
          "Master",
          "Master",
          "Bachelor",
          "Master",
          "Bachelor",
          "PhD",
          "Bachelor",
          "Bachelor",
          "Bachelor",
          "Bachelor",
          "Bachelor",
          "Bachelor",
          "Bachelor",
          "Bachelor",
          "Bachelor",
          "Bachelor",
          "Bachelor",
          "Bachelor",
          "Master",
          "Bachelor",
          "Master",
          "Bachelor",
          "Master",
          "PhD",
          "Bachelor",
          "Master",
          "Bachelor",
          "Master",
          "Bachelor",
          "Master",
          "Bachelor",
          "Master",
          "Bachelor",
          "Master",
          "Bachelor",
          "Master",
          "Bachelor",
          "Master",
          "Master",
          "Bachelor",
          "Master",
          "Bachelor",
          "Master",
          "Bachelor",
          "Master",
          "Bachelor",
          "Master",
          "Master",
          "Master",
          "Master",
          "PhD",
          "Bachelor",
          "Master",
          "PhD",
          "Bachelor",
          "Master",
          "Bachelor",
          "Master",
          "Master",
          "Bachelor",
          "Master",
          "PhD",
          "Bachelor",
          "Master",
          "Bachelor",
          "Master",
          "Bachelor",
          "Master",
          "Bachelor",
          "Master",
          "Master",
          "Bachelor",
          "Master",
          "Bachelor",
          "Bachelor",
          "Master",
          "Master",
          "PhD",
          "Master",
          "PhD",
          "Bachelor",
          "Master",
          "Bachelor",
          "Master",
          "Bachelor",
          "Master",
          "Bachelor",
          "Bachelor",
          "Master",
          "PhD",
          "Master",
          "Bachelor",
          "Bachelor",
          "Bachelor",
          "Bachelor",
          "Master",
          "Bachelor",
          "Bachelor",
          "Master",
          "Bachelor",
          "Master",
          "Bachelor",
          "Master",
          "Bachelor",
          "Master",
          "Bachelor",
          "Master",
          "Master",
          "Bachelor",
          "Bachelor",
          "Bachelor",
          "Bachelor",
          "Master",
          "Master",
          "Master",
          "Master",
          "PhD",
          "PhD",
          "Master",
          "Bachelor",
          "Master",
          "Master",
          "Bachelor",
          "Master",
          "Bachelor",
          "Master",
          "Bachelor",
          "Master",
          "Master",
          "Bachelor",
          "Master",
          "Bachelor",
          "Master",
          "Bachelor",
          "Master",
          "Master",
          "Bachelor",
          "Master",
          "Master",
          "Master",
          "Master",
          "Master",
          "Master",
          "Master",
          "Master",
          "Master",
          "Master",
          "Master",
          "Master",
          "Master",
          "Master",
          "Master",
          "Master",
          "Master",
          "Master",
          "Master",
          "Master",
          "Master",
          "Master",
          "Master",
          "Master",
          "Master",
          "Master",
          "Master",
          "Master",
          "Master",
          "Master",
          "Master",
          "Master",
          "Master",
          "Master",
          "Bachelor",
          "Bachelor",
          "Bachelor",
          "Bachelor",
          "Bachelor",
          "Bachelor",
          "Bachelor",
          "Bachelor",
          "Bachelor",
          "Bachelor",
          "Bachelor",
          "Bachelor",
          "Bachelor",
          "Bachelor",
          "Bachelor",
          "Bachelor",
          "Bachelor",
          "Bachelor",
          "Bachelor",
          "Bachelor",
          "Bachelor",
          "Bachelor",
          "Bachelor",
          "Bachelor",
          "Bachelor",
          "Bachelor",
          "Bachelor",
          "Bachelor",
          "Bachelor",
          "Bachelor",
          "Bachelor",
          "Bachelor",
          "Bachelor",
          "Bachelor",
          "Bachelor",
          "Bachelor",
          "Bachelor",
          "Bachelor",
          "Bachelor",
          "Bachelor",
          "Bachelor",
          "Bachelor",
          "Bachelor",
          "Bachelor",
          "Bachelor",
          "Bachelor",
          "Bachelor",
          "Bachelor",
          "Bachelor",
          "Bachelor",
          "Bachelor",
          "Bachelor",
          "Bachelor",
          "Bachelor",
          "Bachelor",
          "Bachelor",
          "Bachelor",
          "Bachelor",
          "Bachelor",
          "Bachelor",
          "Bachelor",
          "Bachelor",
          "Bachelor",
          "Bachelor",
          "Bachelor",
          "Bachelor",
          "Bachelor",
          "Bachelor",
          "Bachelor",
          "Bachelor",
          "Bachelor",
          "Master",
          "Bachelor",
          "Master",
          "Bachelor",
          "Master",
          "Bachelor",
          "Master",
          "Bachelor",
          "Master",
          "Bachelor",
          "Master",
          "Bachelor",
          "Master",
          "Bachelor",
          "Master",
          "Bachelor",
          "Master",
          "Bachelor",
          "Master",
          "Bachelor",
          "Master",
          "Bachelor",
          "Master",
          "Bachelor",
          "Master",
          "Bachelor",
          "Master",
          "Bachelor",
          "Master",
          "Bachelor",
          "Master",
          "Bachelor",
          "Master",
          "Bachelor",
          "Master",
          "Bachelor",
          "Master",
          "Bachelor",
          "Master",
          "Bachelor",
          "Master",
          "Bachelor",
          "Master",
          "Bachelor",
          "Master",
          "Bachelor",
          "Master",
          "Bachelor",
          "Master",
          "Bachelor",
          "Master",
          "PhD",
          "Bachelor",
          "Master",
          "PhD",
          "Bachelor",
          "Master",
          "PhD",
          "Bachelor",
          "Master",
          "PhD",
          "Bachelor",
          "Master",
          "PhD",
          "Bachelor",
          "Master",
          "PhD",
          "Bachelor",
          "Master",
          "PhD",
          "Bachelor",
          "Master",
          "PhD",
          "Bachelor",
          "Master",
          "PhD",
          "Bachelor",
          "Master",
          "PhD",
          "Bachelor",
          "Master",
          "PhD",
          "Bachelor",
          "Master",
          "PhD",
          "Bachelor",
          "Master",
          "PhD",
          "Bachelor",
          "Master",
          "PhD",
          "Bachelor",
          "Master",
          "PhD",
          "Bachelor",
          "Master",
          "PhD",
          "Bachelor",
          "Master",
          "PhD",
          "Bachelor",
          "Master",
          "PhD",
          "Bachelor",
          "Master",
          "PhD",
          "Bachelor",
          "Master",
          "PhD",
          "Bachelor",
          "Master",
          "PhD",
          "Master",
          "Master",
          "Master",
          "Master",
          "PhD",
          "PhD",
          "Master",
          "Bachelor",
          "Master",
          "PhD",
          "Master",
          "Bachelor",
          "Master",
          "PhD",
          "Master",
          "Master",
          "PhD",
          "Bachelor",
          "Master",
          "Master",
          "PhD",
          "Master",
          "Master",
          "Bachelor",
          "PhD",
          "Master",
          "Bachelor",
          "Master",
          "Master",
          "PhD",
          "Master",
          "PhD",
          "Bachelor",
          "Master",
          "Master",
          "PhD",
          "Master",
          "Master",
          "Bachelor",
          "Master",
          "Master",
          "PhD",
          "Master",
          "Master",
          "Bachelor",
          "PhD",
          "Master",
          "Bachelor",
          "Master",
          "PhD",
          "Master",
          "Master",
          "Master",
          "Master",
          "PhD",
          "Master",
          "Bachelor",
          "PhD",
          "Master",
          "Master",
          "Master",
          "Master",
          "Master",
          "Bachelor",
          "Master",
          "PhD",
          "Master",
          "Master",
          "Master",
          "Bachelor",
          "Master",
          "Master",
          "Master",
          "Master",
          "PhD",
          "Master",
          "Bachelor",
          "Master",
          "PhD",
          "Master",
          "Master",
          "Master",
          "Master",
          "Master",
          "Bachelor",
          "PhD",
          "Master",
          "Master",
          "Master",
          "Master",
          "Master",
          "Master",
          "Master",
          "PhD",
          "Master",
          "Bachelor",
          "PhD",
          "Master",
          "Master",
          "Master",
          "Bachelor",
          "Master",
          "PhD",
          "Master",
          "Master",
          "Bachelor",
          "Master",
          "PhD",
          "Master",
          "Master",
          "Master",
          "Master",
          "PhD",
          "Master",
          "Bachelor",
          "Master",
          "Master",
          "PhD",
          "Master",
          "Master",
          "Master",
          "Master",
          "PhD",
          "Bachelor",
          "Master",
          "Master",
          "Master",
          "PhD",
          "Master",
          "Master",
          "Master",
          "Master",
          "Master",
          "PhD",
          "Master",
          "Master",
          "PhD",
          "Bachelor",
          "Master",
          "Master",
          "PhD",
          "Master",
          "Master",
          "Master",
          "Bachelor",
          "Master",
          "Master",
          "PhD",
          "Master",
          "Master",
          "Master",
          "PhD",
          "Master",
          "Bachelor",
          "PhD",
          "Bachelor",
          "Master",
          "Master",
          "PhD",
          "Master",
          "Master",
          "Master",
          "Bachelor",
          "Master",
          "Master",
          "PhD",
          "Master",
          "Master",
          "Master",
          "Bachelor",
          "Master",
          "Master",
          "PhD",
          "Master",
          "Bachelor",
          "Master",
          "PhD",
          "Master",
          "Bachelor",
          "Master",
          "Master",
          "Master",
          "PhD",
          "Master",
          "Bachelor",
          "Master",
          "PhD",
          "Master",
          "Bachelor",
          "Master",
          "PhD",
          "Master",
          "Master",
          "Master",
          "Bachelor",
          "Master",
          "PhD",
          "Bachelor",
          "Master",
          "Master",
          "Master",
          "Master",
          "Master",
          "PhD",
          "Bachelor",
          "PhD",
          "Master",
          "Master",
          "Bachelor",
          "Master",
          "Master",
          "Master",
          "PhD",
          "Master",
          "Bachelor",
          "Master",
          "PhD",
          "Master",
          "Bachelor",
          "Master",
          "PhD",
          "Master",
          "Master",
          "PhD",
          "Master",
          "Bachelor",
          "Master",
          "PhD",
          "Master",
          "Bachelor",
          "Master",
          "PhD",
          "Master",
          "Bachelor",
          "Master",
          "PhD",
          "Master",
          "Bachelor",
          "Master",
          "PhD",
          "Master",
          "Bachelor",
          "PhD",
          "Master",
          "Master",
          "Bachelor",
          "Master",
          "Master",
          "PhD",
          "Bachelor",
          "Master",
          "PhD",
          "Master",
          "Bachelor",
          "Master",
          "Master",
          "PhD",
          "Master",
          "Bachelor",
          "PhD",
          "Master",
          "Master",
          "PhD",
          "Master",
          "Master",
          "Bachelor",
          "PhD",
          "Bachelor",
          "Master",
          "Master",
          "PhD",
          "Master",
          "Bachelor",
          "Master",
          "PhD",
          "Bachelor",
          "Master",
          "PhD",
          "Master",
          "PhD",
          "Master",
          "Master",
          "Bachelor",
          "Bachelor",
          "Master",
          "Master",
          "PhD",
          "Bachelor",
          "Master",
          "Bachelor",
          "Master",
          "Master",
          "PhD",
          "Bachelor",
          "Master",
          "Master",
          "Bachelor",
          "PhD",
          "Master",
          "Master",
          "Master",
          "PhD",
          "Master",
          "Bachelor",
          "Master",
          "PhD",
          "Bachelor",
          "Master",
          "Master",
          "Master",
          "PhD",
          "Master",
          "Master",
          "Bachelor",
          "Bachelor",
          "PhD",
          "Master",
          "Bachelor",
          "Master",
          "Master",
          "Master",
          "Master",
          "Bachelor",
          "PhD",
          "Master",
          "Master",
          "Bachelor",
          "PhD",
          "Master",
          "Master",
          "Master",
          "Master",
          "PhD",
          "Bachelor",
          "Master",
          "Master",
          "PhD",
          "Master",
          "Bachelor",
          "Master",
          "Master",
          "PhD",
          "Bachelor",
          "Master",
          "Bachelor",
          "PhD",
          "Master",
          "Bachelor",
          "Master",
          "PhD",
          "Master",
          "PhD",
          "Master",
          "Bachelor",
          "Master",
          "PhD",
          "Master",
          "Bachelor",
          "Master",
          "PhD",
          "Bachelor",
          "PhD",
          "Master",
          "Master",
          "PhD",
          "Bachelor",
          "Master",
          "Master",
          "Bachelor",
          "PhD",
          "Master",
          "Master",
          "Bachelor",
          "PhD",
          "Master",
          "Master",
          "Bachelor",
          "Master",
          "PhD",
          "Master",
          "Master",
          "Master",
          "Bachelor",
          "PhD",
          "Master",
          "Bachelor",
          "Master",
          "PhD",
          "Bachelor",
          "Master",
          "Master",
          "Master",
          "PhD",
          "Master",
          "Bachelor",
          "Master",
          "PhD",
          "Bachelor",
          "Master",
          "PhD",
          "Master",
          "Bachelor",
          "PhD",
          "Bachelor",
          "Master",
          "Master",
          "PhD",
          "Master",
          "Bachelor",
          "Master",
          "Master",
          "Master",
          "Bachelor",
          "PhD",
          "Master",
          "Master",
          "Bachelor",
          "Master",
          "PhD",
          "Master",
          "Master",
          "Master",
          "PhD",
          "Bachelor",
          "Master",
          "Bachelor",
          "Master",
          "PhD",
          "Master",
          "Bachelor",
          "Master",
          "PhD",
          "Bachelor",
          "Master",
          "Master",
          "Bachelor",
          "PhD",
          "Master",
          "Bachelor",
          "Master",
          "Master",
          "Bachelor",
          "PhD",
          "Master",
          "Master",
          "Bachelor",
          "Master",
          "PhD",
          "Master",
          "Bachelor",
          "Master",
          "PhD",
          "Master",
          "Master",
          "PhD",
          "Master",
          "Master",
          "Bachelor",
          "Master",
          "PhD",
          "PhD",
          "Master",
          "Bachelor",
          "Master",
          "PhD",
          "Master",
          "Master",
          "Master",
          "PhD",
          "Master",
          "PhD",
          "Master",
          "Bachelor",
          "PhD",
          "Master",
          "Master",
          "PhD",
          "Master",
          "Bachelor",
          "Master",
          "Master",
          "PhD",
          "Bachelor",
          "Master",
          "PhD",
          "Master",
          "Master",
          "PhD",
          "Master",
          "Master",
          "Bachelor",
          "Master",
          "PhD",
          "Bachelor",
          "Master",
          "PhD",
          "Master",
          "Master",
          "Bachelor",
          "Master",
          "PhD",
          "Master",
          "Master",
          "PhD",
          "Master",
          "Master",
          "Bachelor",
          "Master",
          "PhD",
          "Master"
         ],
         "x0": " ",
         "xaxis": "x",
         "y": [
          83460,
          64085,
          58835,
          59900,
          14325,
          25470,
          34700,
          58690,
          22049,
          27948,
          14910,
          16170,
          19040,
          18630,
          48900,
          14930,
          43745,
          13560,
          16230,
          75560,
          65860,
          61760,
          45685,
          45635,
          40720,
          13670,
          27350,
          14190,
          18100,
          83460,
          81860,
          50285,
          52885,
          11925,
          24388,
          20100,
          28990,
          38235,
          47700,
          12510,
          68660,
          64560,
          38335,
          47985,
          9000,
          11370,
          12030,
          39800,
          15930,
          11210,
          71760,
          47685,
          52735,
          55300,
          11425,
          14860,
          18170,
          27700,
          13720,
          17385,
          18570,
          20270,
          17770,
          16970,
          15670,
          15670,
          23070,
          15370,
          17270,
          14070,
          15170,
          47100,
          50000,
          45500,
          43300,
          44600,
          46600,
          41700,
          43700,
          42600,
          41800,
          10125,
          11275,
          12525,
          9525,
          10725,
          10075,
          8925,
          8275,
          10125,
          10725,
          76360,
          78060,
          75660,
          71660,
          71160,
          56660,
          58460,
          60660,
          62160,
          64860,
          63285,
          41185,
          50085,
          39385,
          42185,
          44485,
          40385,
          42085,
          37785,
          41685,
          48035,
          44135,
          44035,
          44635,
          33435,
          39335,
          37435,
          32335,
          37635,
          31835,
          74460,
          64260,
          43235,
          7760,
          7600,
          12770,
          7360,
          9620,
          9640,
          44970,
          84460,
          70660,
          18340,
          13640,
          25680,
          5250,
          10630,
          18250,
          7780,
          8970,
          27900,
          21100,
          25300,
          22600,
          25000,
          21200,
          28100,
          23700,
          24800,
          29500,
          51390,
          50690,
          50090,
          48690,
          54490,
          53790,
          52690,
          53090,
          57390,
          56790,
          34349,
          13949,
          15749,
          14849,
          15449,
          15149,
          13549,
          13649,
          14249,
          13849,
          25548,
          26668,
          23108,
          21928,
          20748,
          19468,
          20708,
          24328,
          21868,
          23148,
          27510,
          23710,
          21110,
          19040,
          18040,
          16740,
          17380,
          14640,
          13740,
          13200,
          12440,
          11880,
          11440,
          19490,
          18930,
          18590,
          17590,
          17370,
          16090,
          14590,
          13890,
          13450,
          12990,
          12650,
          12430,
          12090,
          13950,
          12590,
          14030,
          13090,
          14590,
          12270,
          11930,
          87460,
          85060,
          81360,
          79660,
          77960,
          71060,
          72760,
          74060,
          63760,
          65460,
          58360,
          56460,
          55560,
          51260,
          48760,
          46960,
          47660,
          45960,
          44260,
          43760,
          61390,
          61390,
          65190,
          63290,
          60790,
          52990,
          49890,
          50790,
          48090,
          48890,
          47390,
          46490,
          45490,
          44590,
          46090,
          45190,
          43090,
          42190,
          42490,
          40990,
          40090,
          42190,
          42490,
          39790,
          42490,
          40990,
          41290,
          39790,
          37690,
          37990,
          38290,
          36190,
          46690,
          47590,
          41290,
          36190,
          35290,
          37990,
          33490,
          32590,
          34090,
          34390,
          31690,
          32590,
          32890,
          39190,
          31690,
          42190,
          40690,
          39190,
          67635,
          50935,
          67435,
          51535,
          60335,
          45635,
          57335,
          42635,
          57135,
          43435,
          53435,
          40135,
          55435,
          42135,
          53635,
          40535,
          52335,
          39635,
          51135,
          38735,
          51835,
          39635,
          52435,
          40535,
          49435,
          37835,
          47635,
          36335,
          45835,
          34835,
          44635,
          33935,
          43435,
          33035,
          42835,
          32735,
          41635,
          31835,
          42235,
          32735,
          41035,
          31835,
          39835,
          30935,
          38635,
          30035,
          38035,
          29735,
          36835,
          28835,
          65200,
          68500,
          57700,
          66900,
          70000,
          59600,
          61500,
          64500,
          54300,
          59600,
          62600,
          52600,
          64100,
          67100,
          57100,
          61300,
          64300,
          54300,
          57100,
          60100,
          50100,
          57900,
          60900,
          50900,
          56100,
          59100,
          49100,
          60500,
          63500,
          53500,
          57500,
          60500,
          50500,
          53500,
          56500,
          46500,
          52900,
          55900,
          45900,
          51300,
          54300,
          44300,
          53100,
          56100,
          46100,
          53900,
          56900,
          46900,
          49700,
          52700,
          42700,
          48100,
          51100,
          41100,
          47500,
          50500,
          40500,
          45900,
          48900,
          38900,
          45300,
          48300,
          38300,
          84860,
          64885,
          15410,
          66385,
          48100,
          81260,
          52485,
          12410,
          62185,
          52500,
          79660,
          47085,
          14210,
          55785,
          47500,
          93660,
          58085,
          10610,
          56585,
          44300,
          70060,
          51685,
          16610,
          50385,
          41100,
          80060,
          46685,
          14210,
          51185,
          49700,
          65860,
          47085,
          13010,
          48985,
          43300,
          75660,
          44485,
          15410,
          45785,
          39500,
          75660,
          44885,
          14210,
          49185,
          37900,
          73460,
          47085,
          13010,
          44785,
          40500,
          82460,
          63085,
          26840,
          27049,
          40200,
          82460,
          54285,
          25640,
          19549,
          33300,
          82060,
          52685,
          24440,
          15749,
          30000,
          77860,
          50485,
          23240,
          17249,
          28300,
          72260,
          48285,
          22040,
          20649,
          27200,
          69060,
          46085,
          20840,
          16549,
          26200,
          65860,
          47485,
          19640,
          16949,
          25100,
          70060,
          46685,
          18440,
          18249,
          24300,
          17775,
          15400,
          14210,
          19250,
          14175,
          13000,
          16610,
          15650,
          15375,
          11800,
          11810,
          14450,
          12975,
          11200,
          15410,
          13250,
          14175,
          10600,
          14210,
          13250,
          11775,
          10600,
          13010,
          18050,
          11175,
          10000,
          12410,
          12050,
          10575,
          9400,
          11810,
          11450,
          11175,
          9400,
          13010,
          12050,
          10575,
          8800,
          11210,
          10850,
          47330,
          79660,
          14070,
          31491,
          17075,
          44130,
          68860,
          11670,
          29791,
          15375,
          43330,
          73460,
          12270,
          29591,
          13675,
          40730,
          77860,
          12870,
          27091,
          13275,
          39630,
          70060,
          11070,
          27991,
          13275,
          38030,
          75660,
          10470,
          25891,
          12135,
          44230,
          65460,
          9870,
          26291,
          11575,
          39730,
          68860,
          9270,
          26191,
          10775,
          17530,
          19220,
          8500,
          13910,
          8440,
          16630,
          17520,
          6700,
          11510,
          20840,
          13630,
          15420,
          6100,
          10910,
          7340,
          12830,
          15820,
          6460,
          12110,
          15840,
          14430,
          16320,
          5500,
          11870,
          17200,
          12030,
          13620,
          5260,
          11150,
          8740,
          11530,
          14320,
          5740,
          10910,
          16540,
          11130,
          15020,
          6100,
          12110,
          7800,
          9290,
          8500,
          16180,
          13090,
          13260,
          7190,
          6700,
          14680,
          11190,
          12160,
          6690,
          6100,
          15380,
          11150,
          10160,
          5790,
          6460,
          14280,
          10290,
          9620,
          6250,
          5500,
          13840,
          9630,
          9360,
          7030,
          7300,
          13380,
          9490,
          10060,
          5990,
          5260,
          13220,
          9410,
          9400,
          5550,
          5500,
          12880,
          9470,
          8960,
          7690,
          6080,
          21430,
          5800,
          57290,
          39220,
          15090,
          6480,
          16030,
          54090,
          40020,
          5890,
          6220,
          14430,
          4900,
          52690,
          37820,
          5290,
          5540,
          14030,
          5340,
          53090,
          33620,
          4690,
          5400,
          13290,
          4560,
          50490,
          34020,
          5290,
          5080,
          12430,
          4340,
          47890,
          31420,
          5050,
          5260,
          12170,
          4120,
          29820,
          15440,
          8680,
          11280,
          8370,
          18100,
          10200,
          11840,
          8580,
          10480,
          7470,
          15700,
          8500,
          14840,
          7180,
          9680,
          7430,
          14500,
          7400,
          13040,
          7540,
          10140,
          6770,
          16900,
          7560,
          12440,
          7000,
          9220,
          6430,
          15100,
          6780,
          8880,
          6210,
          14500,
          6240,
          11840,
          7160,
          8540,
          6270,
          13900,
          5800,
          4760,
          15800,
          9880,
          10600,
          5920,
          13770,
          4570,
          4060,
          14700,
          9080,
          9500,
          6720,
          11070,
          3730,
          3720,
          14800,
          8540,
          8760,
          5120,
          11330,
          3490,
          3900,
          14160,
          7880,
          8320,
          5780,
          10390,
          3250,
          3580,
          8520,
          13400,
          7900,
          5340,
          10670,
          3130,
          3260,
          13360,
          8560,
          4900,
          9850,
          13700,
          27850,
          16130,
          5840,
          8710,
          8470,
          4480,
          15200,
          12400,
          24650,
          16530,
          11500,
          7810,
          7570,
          4020,
          12700,
          11440,
          7450,
          14430,
          12240,
          7470,
          7130,
          3980,
          11800,
          10800,
          22050,
          17170,
          4640,
          7150,
          6570,
          3440,
          11260,
          10260,
          20690,
          15190,
          4400,
          7310,
          6030,
          3100,
          10700,
          5800,
          13940,
          9020,
          11030,
          7410,
          8230,
          8210,
          10710,
          4900,
          24840,
          8120,
          10130,
          6850,
          7430,
          7210,
          9610,
          4560,
          23240,
          7780,
          9570,
          6510,
          7170,
          6550,
          9050,
          4340,
          22500,
          7860,
          9430,
          6170,
          6730,
          6210,
          8510,
          4520,
          21640,
          7320,
          8990,
          5950,
          6390,
          5770,
          7970,
          15020,
          15600,
          86060,
          64885,
          17530,
          19220,
          27049,
          13420,
          14800,
          81260,
          65485,
          16630,
          17520,
          19549,
          13320,
          13900,
          79660,
          58085,
          13630,
          15420,
          17249,
          12080,
          13000,
          82860,
          52485,
          12830,
          15820,
          18249,
          13720,
          13760,
          93660,
          47085,
          12030,
          16320,
          17249,
          12760,
          12600,
          80060,
          51685,
          14430,
          13620,
          20649,
          12820,
          12060,
          82460,
          46685,
          11130,
          14320,
          16549,
          12780,
          13100,
          85460,
          47085,
          11530,
          15020,
          16949,
          12120,
          12400,
          75660,
          44885
         ],
         "y0": " ",
         "yaxis": "y"
        }
       ],
       "layout": {
        "boxmode": "group",
        "legend": {
         "tracegroupgap": 0
        },
        "template": {
         "data": {
          "bar": [
           {
            "error_x": {
             "color": "#2a3f5f"
            },
            "error_y": {
             "color": "#2a3f5f"
            },
            "marker": {
             "line": {
              "color": "#E5ECF6",
              "width": 0.5
             },
             "pattern": {
              "fillmode": "overlay",
              "size": 10,
              "solidity": 0.2
             }
            },
            "type": "bar"
           }
          ],
          "barpolar": [
           {
            "marker": {
             "line": {
              "color": "#E5ECF6",
              "width": 0.5
             },
             "pattern": {
              "fillmode": "overlay",
              "size": 10,
              "solidity": 0.2
             }
            },
            "type": "barpolar"
           }
          ],
          "carpet": [
           {
            "aaxis": {
             "endlinecolor": "#2a3f5f",
             "gridcolor": "white",
             "linecolor": "white",
             "minorgridcolor": "white",
             "startlinecolor": "#2a3f5f"
            },
            "baxis": {
             "endlinecolor": "#2a3f5f",
             "gridcolor": "white",
             "linecolor": "white",
             "minorgridcolor": "white",
             "startlinecolor": "#2a3f5f"
            },
            "type": "carpet"
           }
          ],
          "choropleth": [
           {
            "colorbar": {
             "outlinewidth": 0,
             "ticks": ""
            },
            "type": "choropleth"
           }
          ],
          "contour": [
           {
            "colorbar": {
             "outlinewidth": 0,
             "ticks": ""
            },
            "colorscale": [
             [
              0,
              "#0d0887"
             ],
             [
              0.1111111111111111,
              "#46039f"
             ],
             [
              0.2222222222222222,
              "#7201a8"
             ],
             [
              0.3333333333333333,
              "#9c179e"
             ],
             [
              0.4444444444444444,
              "#bd3786"
             ],
             [
              0.5555555555555556,
              "#d8576b"
             ],
             [
              0.6666666666666666,
              "#ed7953"
             ],
             [
              0.7777777777777778,
              "#fb9f3a"
             ],
             [
              0.8888888888888888,
              "#fdca26"
             ],
             [
              1,
              "#f0f921"
             ]
            ],
            "type": "contour"
           }
          ],
          "contourcarpet": [
           {
            "colorbar": {
             "outlinewidth": 0,
             "ticks": ""
            },
            "type": "contourcarpet"
           }
          ],
          "heatmap": [
           {
            "colorbar": {
             "outlinewidth": 0,
             "ticks": ""
            },
            "colorscale": [
             [
              0,
              "#0d0887"
             ],
             [
              0.1111111111111111,
              "#46039f"
             ],
             [
              0.2222222222222222,
              "#7201a8"
             ],
             [
              0.3333333333333333,
              "#9c179e"
             ],
             [
              0.4444444444444444,
              "#bd3786"
             ],
             [
              0.5555555555555556,
              "#d8576b"
             ],
             [
              0.6666666666666666,
              "#ed7953"
             ],
             [
              0.7777777777777778,
              "#fb9f3a"
             ],
             [
              0.8888888888888888,
              "#fdca26"
             ],
             [
              1,
              "#f0f921"
             ]
            ],
            "type": "heatmap"
           }
          ],
          "heatmapgl": [
           {
            "colorbar": {
             "outlinewidth": 0,
             "ticks": ""
            },
            "colorscale": [
             [
              0,
              "#0d0887"
             ],
             [
              0.1111111111111111,
              "#46039f"
             ],
             [
              0.2222222222222222,
              "#7201a8"
             ],
             [
              0.3333333333333333,
              "#9c179e"
             ],
             [
              0.4444444444444444,
              "#bd3786"
             ],
             [
              0.5555555555555556,
              "#d8576b"
             ],
             [
              0.6666666666666666,
              "#ed7953"
             ],
             [
              0.7777777777777778,
              "#fb9f3a"
             ],
             [
              0.8888888888888888,
              "#fdca26"
             ],
             [
              1,
              "#f0f921"
             ]
            ],
            "type": "heatmapgl"
           }
          ],
          "histogram": [
           {
            "marker": {
             "pattern": {
              "fillmode": "overlay",
              "size": 10,
              "solidity": 0.2
             }
            },
            "type": "histogram"
           }
          ],
          "histogram2d": [
           {
            "colorbar": {
             "outlinewidth": 0,
             "ticks": ""
            },
            "colorscale": [
             [
              0,
              "#0d0887"
             ],
             [
              0.1111111111111111,
              "#46039f"
             ],
             [
              0.2222222222222222,
              "#7201a8"
             ],
             [
              0.3333333333333333,
              "#9c179e"
             ],
             [
              0.4444444444444444,
              "#bd3786"
             ],
             [
              0.5555555555555556,
              "#d8576b"
             ],
             [
              0.6666666666666666,
              "#ed7953"
             ],
             [
              0.7777777777777778,
              "#fb9f3a"
             ],
             [
              0.8888888888888888,
              "#fdca26"
             ],
             [
              1,
              "#f0f921"
             ]
            ],
            "type": "histogram2d"
           }
          ],
          "histogram2dcontour": [
           {
            "colorbar": {
             "outlinewidth": 0,
             "ticks": ""
            },
            "colorscale": [
             [
              0,
              "#0d0887"
             ],
             [
              0.1111111111111111,
              "#46039f"
             ],
             [
              0.2222222222222222,
              "#7201a8"
             ],
             [
              0.3333333333333333,
              "#9c179e"
             ],
             [
              0.4444444444444444,
              "#bd3786"
             ],
             [
              0.5555555555555556,
              "#d8576b"
             ],
             [
              0.6666666666666666,
              "#ed7953"
             ],
             [
              0.7777777777777778,
              "#fb9f3a"
             ],
             [
              0.8888888888888888,
              "#fdca26"
             ],
             [
              1,
              "#f0f921"
             ]
            ],
            "type": "histogram2dcontour"
           }
          ],
          "mesh3d": [
           {
            "colorbar": {
             "outlinewidth": 0,
             "ticks": ""
            },
            "type": "mesh3d"
           }
          ],
          "parcoords": [
           {
            "line": {
             "colorbar": {
              "outlinewidth": 0,
              "ticks": ""
             }
            },
            "type": "parcoords"
           }
          ],
          "pie": [
           {
            "automargin": true,
            "type": "pie"
           }
          ],
          "scatter": [
           {
            "fillpattern": {
             "fillmode": "overlay",
             "size": 10,
             "solidity": 0.2
            },
            "type": "scatter"
           }
          ],
          "scatter3d": [
           {
            "line": {
             "colorbar": {
              "outlinewidth": 0,
              "ticks": ""
             }
            },
            "marker": {
             "colorbar": {
              "outlinewidth": 0,
              "ticks": ""
             }
            },
            "type": "scatter3d"
           }
          ],
          "scattercarpet": [
           {
            "marker": {
             "colorbar": {
              "outlinewidth": 0,
              "ticks": ""
             }
            },
            "type": "scattercarpet"
           }
          ],
          "scattergeo": [
           {
            "marker": {
             "colorbar": {
              "outlinewidth": 0,
              "ticks": ""
             }
            },
            "type": "scattergeo"
           }
          ],
          "scattergl": [
           {
            "marker": {
             "colorbar": {
              "outlinewidth": 0,
              "ticks": ""
             }
            },
            "type": "scattergl"
           }
          ],
          "scattermapbox": [
           {
            "marker": {
             "colorbar": {
              "outlinewidth": 0,
              "ticks": ""
             }
            },
            "type": "scattermapbox"
           }
          ],
          "scatterpolar": [
           {
            "marker": {
             "colorbar": {
              "outlinewidth": 0,
              "ticks": ""
             }
            },
            "type": "scatterpolar"
           }
          ],
          "scatterpolargl": [
           {
            "marker": {
             "colorbar": {
              "outlinewidth": 0,
              "ticks": ""
             }
            },
            "type": "scatterpolargl"
           }
          ],
          "scatterternary": [
           {
            "marker": {
             "colorbar": {
              "outlinewidth": 0,
              "ticks": ""
             }
            },
            "type": "scatterternary"
           }
          ],
          "surface": [
           {
            "colorbar": {
             "outlinewidth": 0,
             "ticks": ""
            },
            "colorscale": [
             [
              0,
              "#0d0887"
             ],
             [
              0.1111111111111111,
              "#46039f"
             ],
             [
              0.2222222222222222,
              "#7201a8"
             ],
             [
              0.3333333333333333,
              "#9c179e"
             ],
             [
              0.4444444444444444,
              "#bd3786"
             ],
             [
              0.5555555555555556,
              "#d8576b"
             ],
             [
              0.6666666666666666,
              "#ed7953"
             ],
             [
              0.7777777777777778,
              "#fb9f3a"
             ],
             [
              0.8888888888888888,
              "#fdca26"
             ],
             [
              1,
              "#f0f921"
             ]
            ],
            "type": "surface"
           }
          ],
          "table": [
           {
            "cells": {
             "fill": {
              "color": "#EBF0F8"
             },
             "line": {
              "color": "white"
             }
            },
            "header": {
             "fill": {
              "color": "#C8D4E3"
             },
             "line": {
              "color": "white"
             }
            },
            "type": "table"
           }
          ]
         },
         "layout": {
          "annotationdefaults": {
           "arrowcolor": "#2a3f5f",
           "arrowhead": 0,
           "arrowwidth": 1
          },
          "autotypenumbers": "strict",
          "coloraxis": {
           "colorbar": {
            "outlinewidth": 0,
            "ticks": ""
           }
          },
          "colorscale": {
           "diverging": [
            [
             0,
             "#8e0152"
            ],
            [
             0.1,
             "#c51b7d"
            ],
            [
             0.2,
             "#de77ae"
            ],
            [
             0.3,
             "#f1b6da"
            ],
            [
             0.4,
             "#fde0ef"
            ],
            [
             0.5,
             "#f7f7f7"
            ],
            [
             0.6,
             "#e6f5d0"
            ],
            [
             0.7,
             "#b8e186"
            ],
            [
             0.8,
             "#7fbc41"
            ],
            [
             0.9,
             "#4d9221"
            ],
            [
             1,
             "#276419"
            ]
           ],
           "sequential": [
            [
             0,
             "#0d0887"
            ],
            [
             0.1111111111111111,
             "#46039f"
            ],
            [
             0.2222222222222222,
             "#7201a8"
            ],
            [
             0.3333333333333333,
             "#9c179e"
            ],
            [
             0.4444444444444444,
             "#bd3786"
            ],
            [
             0.5555555555555556,
             "#d8576b"
            ],
            [
             0.6666666666666666,
             "#ed7953"
            ],
            [
             0.7777777777777778,
             "#fb9f3a"
            ],
            [
             0.8888888888888888,
             "#fdca26"
            ],
            [
             1,
             "#f0f921"
            ]
           ],
           "sequentialminus": [
            [
             0,
             "#0d0887"
            ],
            [
             0.1111111111111111,
             "#46039f"
            ],
            [
             0.2222222222222222,
             "#7201a8"
            ],
            [
             0.3333333333333333,
             "#9c179e"
            ],
            [
             0.4444444444444444,
             "#bd3786"
            ],
            [
             0.5555555555555556,
             "#d8576b"
            ],
            [
             0.6666666666666666,
             "#ed7953"
            ],
            [
             0.7777777777777778,
             "#fb9f3a"
            ],
            [
             0.8888888888888888,
             "#fdca26"
            ],
            [
             1,
             "#f0f921"
            ]
           ]
          },
          "colorway": [
           "#636efa",
           "#EF553B",
           "#00cc96",
           "#ab63fa",
           "#FFA15A",
           "#19d3f3",
           "#FF6692",
           "#B6E880",
           "#FF97FF",
           "#FECB52"
          ],
          "font": {
           "color": "#2a3f5f"
          },
          "geo": {
           "bgcolor": "white",
           "lakecolor": "white",
           "landcolor": "#E5ECF6",
           "showlakes": true,
           "showland": true,
           "subunitcolor": "white"
          },
          "hoverlabel": {
           "align": "left"
          },
          "hovermode": "closest",
          "mapbox": {
           "style": "light"
          },
          "paper_bgcolor": "white",
          "plot_bgcolor": "#E5ECF6",
          "polar": {
           "angularaxis": {
            "gridcolor": "white",
            "linecolor": "white",
            "ticks": ""
           },
           "bgcolor": "#E5ECF6",
           "radialaxis": {
            "gridcolor": "white",
            "linecolor": "white",
            "ticks": ""
           }
          },
          "scene": {
           "xaxis": {
            "backgroundcolor": "#E5ECF6",
            "gridcolor": "white",
            "gridwidth": 2,
            "linecolor": "white",
            "showbackground": true,
            "ticks": "",
            "zerolinecolor": "white"
           },
           "yaxis": {
            "backgroundcolor": "#E5ECF6",
            "gridcolor": "white",
            "gridwidth": 2,
            "linecolor": "white",
            "showbackground": true,
            "ticks": "",
            "zerolinecolor": "white"
           },
           "zaxis": {
            "backgroundcolor": "#E5ECF6",
            "gridcolor": "white",
            "gridwidth": 2,
            "linecolor": "white",
            "showbackground": true,
            "ticks": "",
            "zerolinecolor": "white"
           }
          },
          "shapedefaults": {
           "line": {
            "color": "#2a3f5f"
           }
          },
          "ternary": {
           "aaxis": {
            "gridcolor": "white",
            "linecolor": "white",
            "ticks": ""
           },
           "baxis": {
            "gridcolor": "white",
            "linecolor": "white",
            "ticks": ""
           },
           "bgcolor": "#E5ECF6",
           "caxis": {
            "gridcolor": "white",
            "linecolor": "white",
            "ticks": ""
           }
          },
          "title": {
           "x": 0.05
          },
          "xaxis": {
           "automargin": true,
           "gridcolor": "white",
           "linecolor": "white",
           "ticks": "",
           "title": {
            "standoff": 15
           },
           "zerolinecolor": "white",
           "zerolinewidth": 2
          },
          "yaxis": {
           "automargin": true,
           "gridcolor": "white",
           "linecolor": "white",
           "ticks": "",
           "title": {
            "standoff": 15
           },
           "zerolinecolor": "white",
           "zerolinewidth": 2
          }
         }
        },
        "title": {
         "text": "TCA Distribution by Degree Level"
        },
        "xaxis": {
         "anchor": "y",
         "domain": [
          0,
          1
         ],
         "title": {
          "text": "Level"
         }
        },
        "yaxis": {
         "anchor": "x",
         "domain": [
          0,
          1
         ],
         "title": {
          "text": "TCA"
         }
        }
       }
      }
     },
     "metadata": {},
     "output_type": "display_data"
    }
   ],
   "source": [
    "import plotly.express as px\n",
    "\n",
    "# Average TCA by Country\n",
    "avg_tca_country = df.groupby('Country')['TCA'].mean().reset_index()\n",
    "fig = px.bar(avg_tca_country.sort_values(by='TCA', ascending=False), x='Country', y='TCA', title='Average TCA by Country')\n",
    "fig.show()\n",
    "\n",
    "# TCA by Level\n",
    "fig = px.box(df, x='Level', y='TCA', title='TCA Distribution by Degree Level')\n",
    "fig.show()"
   ]
  },
  {
   "cell_type": "code",
   "execution_count": 10,
   "id": "73cbe356",
   "metadata": {},
   "outputs": [
    {
     "data": {
      "text/html": [
       "<div>\n",
       "<style scoped>\n",
       "    .dataframe tbody tr th:only-of-type {\n",
       "        vertical-align: middle;\n",
       "    }\n",
       "\n",
       "    .dataframe tbody tr th {\n",
       "        vertical-align: top;\n",
       "    }\n",
       "\n",
       "    .dataframe thead th {\n",
       "        text-align: right;\n",
       "    }\n",
       "</style>\n",
       "<table border=\"1\" class=\"dataframe\">\n",
       "  <thead>\n",
       "    <tr style=\"text-align: right;\">\n",
       "      <th></th>\n",
       "      <th>TCA</th>\n",
       "      <th>Affordability_Tier</th>\n",
       "    </tr>\n",
       "  </thead>\n",
       "  <tbody>\n",
       "    <tr>\n",
       "      <th>0</th>\n",
       "      <td>83460</td>\n",
       "      <td>High</td>\n",
       "    </tr>\n",
       "    <tr>\n",
       "      <th>1</th>\n",
       "      <td>64085</td>\n",
       "      <td>High</td>\n",
       "    </tr>\n",
       "    <tr>\n",
       "      <th>2</th>\n",
       "      <td>58835</td>\n",
       "      <td>High</td>\n",
       "    </tr>\n",
       "    <tr>\n",
       "      <th>3</th>\n",
       "      <td>59900</td>\n",
       "      <td>High</td>\n",
       "    </tr>\n",
       "    <tr>\n",
       "      <th>4</th>\n",
       "      <td>14325</td>\n",
       "      <td>Medium</td>\n",
       "    </tr>\n",
       "  </tbody>\n",
       "</table>\n",
       "</div>"
      ],
      "text/plain": [
       "     TCA Affordability_Tier\n",
       "0  83460               High\n",
       "1  64085               High\n",
       "2  58835               High\n",
       "3  59900               High\n",
       "4  14325             Medium"
      ]
     },
     "execution_count": 10,
     "metadata": {},
     "output_type": "execute_result"
    }
   ],
   "source": [
    "# Creating labels as Low/Medium/High using quantiles\n",
    "df['Affordability_Tier'] = pd.qcut(df['TCA'], q=3, labels=['Low', 'Medium', 'High'])\n",
    "df[['TCA', 'Affordability_Tier']].head()\n"
   ]
  },
  {
   "cell_type": "code",
   "execution_count": 11,
   "id": "ec8fcace",
   "metadata": {},
   "outputs": [
    {
     "data": {
      "application/vnd.plotly.v1+json": {
       "config": {
        "plotlyServerURL": "https://plot.ly"
       },
       "data": [
        {
         "alignmentgroup": "True",
         "hovertemplate": "Affordability_Tier=%{x}<br>TCA=%{y}<extra></extra>",
         "legendgroup": "",
         "marker": {
          "color": "#636efa"
         },
         "name": "",
         "notched": false,
         "offsetgroup": "",
         "orientation": "v",
         "showlegend": false,
         "type": "box",
         "x": [
          "High",
          "High",
          "High",
          "High",
          "Medium",
          "Medium",
          "Medium",
          "High",
          "Medium",
          "Medium",
          "Medium",
          "Medium",
          "Medium",
          "Medium",
          "High",
          "Medium",
          "High",
          "Medium",
          "Medium",
          "High",
          "High",
          "High",
          "High",
          "High",
          "High",
          "Medium",
          "Medium",
          "Medium",
          "Medium",
          "High",
          "High",
          "High",
          "High",
          "Low",
          "Medium",
          "Medium",
          "Medium",
          "Medium",
          "High",
          "Low",
          "High",
          "High",
          "Medium",
          "High",
          "Low",
          "Low",
          "Low",
          "Medium",
          "Medium",
          "Low",
          "High",
          "High",
          "High",
          "High",
          "Low",
          "Medium",
          "Medium",
          "Medium",
          "Medium",
          "Medium",
          "Medium",
          "Medium",
          "Medium",
          "Medium",
          "Medium",
          "Medium",
          "Medium",
          "Medium",
          "Medium",
          "Medium",
          "Medium",
          "High",
          "High",
          "High",
          "High",
          "High",
          "High",
          "High",
          "High",
          "High",
          "High",
          "Low",
          "Low",
          "Low",
          "Low",
          "Low",
          "Low",
          "Low",
          "Low",
          "Low",
          "Low",
          "High",
          "High",
          "High",
          "High",
          "High",
          "High",
          "High",
          "High",
          "High",
          "High",
          "High",
          "High",
          "High",
          "Medium",
          "High",
          "High",
          "Medium",
          "High",
          "Medium",
          "High",
          "High",
          "High",
          "High",
          "High",
          "Medium",
          "Medium",
          "Medium",
          "Medium",
          "Medium",
          "Medium",
          "High",
          "High",
          "High",
          "Low",
          "Low",
          "Low",
          "Low",
          "Low",
          "Low",
          "High",
          "High",
          "High",
          "Medium",
          "Medium",
          "Medium",
          "Low",
          "Low",
          "Medium",
          "Low",
          "Low",
          "Medium",
          "Medium",
          "Medium",
          "Medium",
          "Medium",
          "Medium",
          "Medium",
          "Medium",
          "Medium",
          "Medium",
          "High",
          "High",
          "High",
          "High",
          "High",
          "High",
          "High",
          "High",
          "High",
          "High",
          "Medium",
          "Medium",
          "Medium",
          "Medium",
          "Medium",
          "Medium",
          "Medium",
          "Medium",
          "Medium",
          "Medium",
          "Medium",
          "Medium",
          "Medium",
          "Medium",
          "Medium",
          "Medium",
          "Medium",
          "Medium",
          "Medium",
          "Medium",
          "Medium",
          "Medium",
          "Medium",
          "Medium",
          "Medium",
          "Medium",
          "Medium",
          "Medium",
          "Medium",
          "Low",
          "Low",
          "Low",
          "Low",
          "Medium",
          "Medium",
          "Medium",
          "Medium",
          "Medium",
          "Medium",
          "Medium",
          "Medium",
          "Medium",
          "Low",
          "Low",
          "Low",
          "Low",
          "Medium",
          "Low",
          "Medium",
          "Low",
          "Medium",
          "Low",
          "Low",
          "High",
          "High",
          "High",
          "High",
          "High",
          "High",
          "High",
          "High",
          "High",
          "High",
          "High",
          "High",
          "High",
          "High",
          "High",
          "High",
          "High",
          "High",
          "High",
          "High",
          "High",
          "High",
          "High",
          "High",
          "High",
          "High",
          "High",
          "High",
          "High",
          "High",
          "High",
          "High",
          "High",
          "High",
          "High",
          "High",
          "High",
          "High",
          "High",
          "High",
          "Medium",
          "High",
          "High",
          "Medium",
          "High",
          "High",
          "High",
          "Medium",
          "Medium",
          "Medium",
          "Medium",
          "Medium",
          "High",
          "High",
          "High",
          "Medium",
          "Medium",
          "Medium",
          "Medium",
          "Medium",
          "Medium",
          "Medium",
          "Medium",
          "Medium",
          "Medium",
          "Medium",
          "Medium",
          "High",
          "High",
          "Medium",
          "High",
          "High",
          "High",
          "High",
          "High",
          "High",
          "High",
          "High",
          "High",
          "High",
          "High",
          "Medium",
          "High",
          "High",
          "High",
          "High",
          "High",
          "Medium",
          "High",
          "Medium",
          "High",
          "Medium",
          "High",
          "High",
          "High",
          "Medium",
          "High",
          "Medium",
          "High",
          "Medium",
          "High",
          "Medium",
          "High",
          "Medium",
          "High",
          "Medium",
          "High",
          "Medium",
          "High",
          "Medium",
          "High",
          "Medium",
          "Medium",
          "Medium",
          "Medium",
          "Medium",
          "Medium",
          "Medium",
          "Medium",
          "Medium",
          "High",
          "High",
          "High",
          "High",
          "High",
          "High",
          "High",
          "High",
          "High",
          "High",
          "High",
          "High",
          "High",
          "High",
          "High",
          "High",
          "High",
          "High",
          "High",
          "High",
          "High",
          "High",
          "High",
          "High",
          "High",
          "High",
          "High",
          "High",
          "High",
          "High",
          "High",
          "High",
          "High",
          "High",
          "High",
          "High",
          "High",
          "High",
          "High",
          "High",
          "High",
          "High",
          "High",
          "High",
          "High",
          "High",
          "High",
          "High",
          "High",
          "High",
          "High",
          "High",
          "High",
          "High",
          "High",
          "High",
          "High",
          "High",
          "High",
          "Medium",
          "High",
          "High",
          "Medium",
          "High",
          "High",
          "Medium",
          "High",
          "High",
          "High",
          "High",
          "Low",
          "High",
          "High",
          "High",
          "High",
          "Medium",
          "High",
          "High",
          "High",
          "High",
          "Low",
          "High",
          "High",
          "High",
          "High",
          "Medium",
          "High",
          "High",
          "High",
          "High",
          "Medium",
          "High",
          "High",
          "High",
          "High",
          "Low",
          "High",
          "High",
          "High",
          "High",
          "Medium",
          "High",
          "Medium",
          "High",
          "High",
          "Medium",
          "High",
          "Medium",
          "High",
          "High",
          "Low",
          "High",
          "High",
          "High",
          "High",
          "Medium",
          "Medium",
          "Medium",
          "High",
          "High",
          "Medium",
          "Medium",
          "Medium",
          "High",
          "High",
          "Medium",
          "Medium",
          "Medium",
          "High",
          "High",
          "Medium",
          "Medium",
          "Medium",
          "High",
          "High",
          "Medium",
          "Medium",
          "Medium",
          "High",
          "High",
          "Medium",
          "Medium",
          "Medium",
          "High",
          "High",
          "Medium",
          "Medium",
          "Medium",
          "High",
          "High",
          "Medium",
          "Medium",
          "Medium",
          "Medium",
          "Medium",
          "Medium",
          "Medium",
          "Medium",
          "Low",
          "Medium",
          "Medium",
          "Medium",
          "Low",
          "Low",
          "Medium",
          "Low",
          "Low",
          "Medium",
          "Low",
          "Medium",
          "Low",
          "Medium",
          "Low",
          "Low",
          "Low",
          "Low",
          "Medium",
          "Low",
          "Low",
          "Low",
          "Low",
          "Low",
          "Low",
          "Low",
          "Low",
          "Low",
          "Low",
          "Low",
          "Low",
          "Low",
          "Low",
          "Low",
          "Low",
          "High",
          "High",
          "Medium",
          "Medium",
          "Medium",
          "High",
          "High",
          "Low",
          "Medium",
          "Medium",
          "High",
          "High",
          "Low",
          "Medium",
          "Medium",
          "High",
          "High",
          "Low",
          "Medium",
          "Low",
          "Medium",
          "High",
          "Low",
          "Medium",
          "Low",
          "Medium",
          "High",
          "Low",
          "Medium",
          "Low",
          "High",
          "High",
          "Low",
          "Medium",
          "Low",
          "Medium",
          "High",
          "Low",
          "Medium",
          "Low",
          "Medium",
          "Medium",
          "Low",
          "Medium",
          "Low",
          "Medium",
          "Medium",
          "Low",
          "Low",
          "Medium",
          "Medium",
          "Medium",
          "Low",
          "Low",
          "Low",
          "Low",
          "Medium",
          "Low",
          "Low",
          "Medium",
          "Medium",
          "Medium",
          "Low",
          "Low",
          "Medium",
          "Low",
          "Medium",
          "Low",
          "Low",
          "Low",
          "Low",
          "Medium",
          "Low",
          "Low",
          "Medium",
          "Low",
          "Medium",
          "Low",
          "Low",
          "Low",
          "Low",
          "Low",
          "Medium",
          "Low",
          "Low",
          "Low",
          "Low",
          "Medium",
          "Low",
          "Low",
          "Low",
          "Low",
          "Medium",
          "Low",
          "Low",
          "Low",
          "Low",
          "Medium",
          "Low",
          "Low",
          "Low",
          "Low",
          "Medium",
          "Low",
          "Low",
          "Low",
          "Low",
          "Medium",
          "Low",
          "Low",
          "Low",
          "Low",
          "Low",
          "Low",
          "Low",
          "Low",
          "Low",
          "Low",
          "Low",
          "Low",
          "Low",
          "Low",
          "Medium",
          "Low",
          "High",
          "Medium",
          "Medium",
          "Low",
          "Medium",
          "High",
          "Medium",
          "Low",
          "Low",
          "Medium",
          "Low",
          "High",
          "Medium",
          "Low",
          "Low",
          "Medium",
          "Low",
          "High",
          "Medium",
          "Low",
          "Low",
          "Low",
          "Low",
          "High",
          "Medium",
          "Low",
          "Low",
          "Low",
          "Low",
          "High",
          "Medium",
          "Low",
          "Low",
          "Low",
          "Low",
          "Medium",
          "Medium",
          "Low",
          "Low",
          "Low",
          "Medium",
          "Low",
          "Low",
          "Low",
          "Low",
          "Low",
          "Medium",
          "Low",
          "Medium",
          "Low",
          "Low",
          "Low",
          "Medium",
          "Low",
          "Low",
          "Low",
          "Low",
          "Low",
          "Medium",
          "Low",
          "Low",
          "Low",
          "Low",
          "Low",
          "Medium",
          "Low",
          "Low",
          "Low",
          "Medium",
          "Low",
          "Low",
          "Low",
          "Low",
          "Low",
          "Medium",
          "Low",
          "Low",
          "Medium",
          "Low",
          "Low",
          "Low",
          "Medium",
          "Low",
          "Low",
          "Medium",
          "Low",
          "Low",
          "Low",
          "Low",
          "Low",
          "Low",
          "Medium",
          "Low",
          "Low",
          "Low",
          "Low",
          "Low",
          "Low",
          "Medium",
          "Low",
          "Low",
          "Low",
          "Low",
          "Low",
          "Low",
          "Low",
          "Medium",
          "Low",
          "Low",
          "Low",
          "Low",
          "Low",
          "Medium",
          "Low",
          "Low",
          "Low",
          "Medium",
          "Medium",
          "Medium",
          "Low",
          "Low",
          "Low",
          "Low",
          "Medium",
          "Low",
          "Medium",
          "Medium",
          "Low",
          "Low",
          "Low",
          "Low",
          "Low",
          "Low",
          "Low",
          "Medium",
          "Low",
          "Low",
          "Low",
          "Low",
          "Low",
          "Low",
          "Medium",
          "Medium",
          "Low",
          "Low",
          "Low",
          "Low",
          "Low",
          "Low",
          "Medium",
          "Medium",
          "Low",
          "Low",
          "Low",
          "Low",
          "Low",
          "Low",
          "Medium",
          "Low",
          "Low",
          "Low",
          "Low",
          "Low",
          "Low",
          "Low",
          "Medium",
          "Low",
          "Low",
          "Low",
          "Low",
          "Low",
          "Low",
          "Low",
          "Medium",
          "Low",
          "Low",
          "Low",
          "Low",
          "Low",
          "Low",
          "Low",
          "Medium",
          "Low",
          "Low",
          "Low",
          "Low",
          "Low",
          "Low",
          "Low",
          "Medium",
          "Low",
          "Low",
          "Low",
          "Low",
          "Low",
          "Low",
          "Medium",
          "Medium",
          "High",
          "High",
          "Medium",
          "Medium",
          "Medium",
          "Medium",
          "Medium",
          "High",
          "High",
          "Medium",
          "Medium",
          "Medium",
          "Medium",
          "Medium",
          "High",
          "High",
          "Medium",
          "Medium",
          "Medium",
          "Low",
          "Low",
          "High",
          "High",
          "Low",
          "Medium",
          "Medium",
          "Medium",
          "Medium",
          "High",
          "High",
          "Low",
          "Medium",
          "Medium",
          "Low",
          "Low",
          "High",
          "High",
          "Medium",
          "Medium",
          "Medium",
          "Low",
          "Low",
          "High",
          "High",
          "Low",
          "Medium",
          "Medium",
          "Low",
          "Low",
          "High",
          "High",
          "Low",
          "Medium",
          "Medium",
          "Low",
          "Low",
          "High",
          "High"
         ],
         "x0": " ",
         "xaxis": "x",
         "y": [
          83460,
          64085,
          58835,
          59900,
          14325,
          25470,
          34700,
          58690,
          22049,
          27948,
          14910,
          16170,
          19040,
          18630,
          48900,
          14930,
          43745,
          13560,
          16230,
          75560,
          65860,
          61760,
          45685,
          45635,
          40720,
          13670,
          27350,
          14190,
          18100,
          83460,
          81860,
          50285,
          52885,
          11925,
          24388,
          20100,
          28990,
          38235,
          47700,
          12510,
          68660,
          64560,
          38335,
          47985,
          9000,
          11370,
          12030,
          39800,
          15930,
          11210,
          71760,
          47685,
          52735,
          55300,
          11425,
          14860,
          18170,
          27700,
          13720,
          17385,
          18570,
          20270,
          17770,
          16970,
          15670,
          15670,
          23070,
          15370,
          17270,
          14070,
          15170,
          47100,
          50000,
          45500,
          43300,
          44600,
          46600,
          41700,
          43700,
          42600,
          41800,
          10125,
          11275,
          12525,
          9525,
          10725,
          10075,
          8925,
          8275,
          10125,
          10725,
          76360,
          78060,
          75660,
          71660,
          71160,
          56660,
          58460,
          60660,
          62160,
          64860,
          63285,
          41185,
          50085,
          39385,
          42185,
          44485,
          40385,
          42085,
          37785,
          41685,
          48035,
          44135,
          44035,
          44635,
          33435,
          39335,
          37435,
          32335,
          37635,
          31835,
          74460,
          64260,
          43235,
          7760,
          7600,
          12770,
          7360,
          9620,
          9640,
          44970,
          84460,
          70660,
          18340,
          13640,
          25680,
          5250,
          10630,
          18250,
          7780,
          8970,
          27900,
          21100,
          25300,
          22600,
          25000,
          21200,
          28100,
          23700,
          24800,
          29500,
          51390,
          50690,
          50090,
          48690,
          54490,
          53790,
          52690,
          53090,
          57390,
          56790,
          34349,
          13949,
          15749,
          14849,
          15449,
          15149,
          13549,
          13649,
          14249,
          13849,
          25548,
          26668,
          23108,
          21928,
          20748,
          19468,
          20708,
          24328,
          21868,
          23148,
          27510,
          23710,
          21110,
          19040,
          18040,
          16740,
          17380,
          14640,
          13740,
          13200,
          12440,
          11880,
          11440,
          19490,
          18930,
          18590,
          17590,
          17370,
          16090,
          14590,
          13890,
          13450,
          12990,
          12650,
          12430,
          12090,
          13950,
          12590,
          14030,
          13090,
          14590,
          12270,
          11930,
          87460,
          85060,
          81360,
          79660,
          77960,
          71060,
          72760,
          74060,
          63760,
          65460,
          58360,
          56460,
          55560,
          51260,
          48760,
          46960,
          47660,
          45960,
          44260,
          43760,
          61390,
          61390,
          65190,
          63290,
          60790,
          52990,
          49890,
          50790,
          48090,
          48890,
          47390,
          46490,
          45490,
          44590,
          46090,
          45190,
          43090,
          42190,
          42490,
          40990,
          40090,
          42190,
          42490,
          39790,
          42490,
          40990,
          41290,
          39790,
          37690,
          37990,
          38290,
          36190,
          46690,
          47590,
          41290,
          36190,
          35290,
          37990,
          33490,
          32590,
          34090,
          34390,
          31690,
          32590,
          32890,
          39190,
          31690,
          42190,
          40690,
          39190,
          67635,
          50935,
          67435,
          51535,
          60335,
          45635,
          57335,
          42635,
          57135,
          43435,
          53435,
          40135,
          55435,
          42135,
          53635,
          40535,
          52335,
          39635,
          51135,
          38735,
          51835,
          39635,
          52435,
          40535,
          49435,
          37835,
          47635,
          36335,
          45835,
          34835,
          44635,
          33935,
          43435,
          33035,
          42835,
          32735,
          41635,
          31835,
          42235,
          32735,
          41035,
          31835,
          39835,
          30935,
          38635,
          30035,
          38035,
          29735,
          36835,
          28835,
          65200,
          68500,
          57700,
          66900,
          70000,
          59600,
          61500,
          64500,
          54300,
          59600,
          62600,
          52600,
          64100,
          67100,
          57100,
          61300,
          64300,
          54300,
          57100,
          60100,
          50100,
          57900,
          60900,
          50900,
          56100,
          59100,
          49100,
          60500,
          63500,
          53500,
          57500,
          60500,
          50500,
          53500,
          56500,
          46500,
          52900,
          55900,
          45900,
          51300,
          54300,
          44300,
          53100,
          56100,
          46100,
          53900,
          56900,
          46900,
          49700,
          52700,
          42700,
          48100,
          51100,
          41100,
          47500,
          50500,
          40500,
          45900,
          48900,
          38900,
          45300,
          48300,
          38300,
          84860,
          64885,
          15410,
          66385,
          48100,
          81260,
          52485,
          12410,
          62185,
          52500,
          79660,
          47085,
          14210,
          55785,
          47500,
          93660,
          58085,
          10610,
          56585,
          44300,
          70060,
          51685,
          16610,
          50385,
          41100,
          80060,
          46685,
          14210,
          51185,
          49700,
          65860,
          47085,
          13010,
          48985,
          43300,
          75660,
          44485,
          15410,
          45785,
          39500,
          75660,
          44885,
          14210,
          49185,
          37900,
          73460,
          47085,
          13010,
          44785,
          40500,
          82460,
          63085,
          26840,
          27049,
          40200,
          82460,
          54285,
          25640,
          19549,
          33300,
          82060,
          52685,
          24440,
          15749,
          30000,
          77860,
          50485,
          23240,
          17249,
          28300,
          72260,
          48285,
          22040,
          20649,
          27200,
          69060,
          46085,
          20840,
          16549,
          26200,
          65860,
          47485,
          19640,
          16949,
          25100,
          70060,
          46685,
          18440,
          18249,
          24300,
          17775,
          15400,
          14210,
          19250,
          14175,
          13000,
          16610,
          15650,
          15375,
          11800,
          11810,
          14450,
          12975,
          11200,
          15410,
          13250,
          14175,
          10600,
          14210,
          13250,
          11775,
          10600,
          13010,
          18050,
          11175,
          10000,
          12410,
          12050,
          10575,
          9400,
          11810,
          11450,
          11175,
          9400,
          13010,
          12050,
          10575,
          8800,
          11210,
          10850,
          47330,
          79660,
          14070,
          31491,
          17075,
          44130,
          68860,
          11670,
          29791,
          15375,
          43330,
          73460,
          12270,
          29591,
          13675,
          40730,
          77860,
          12870,
          27091,
          13275,
          39630,
          70060,
          11070,
          27991,
          13275,
          38030,
          75660,
          10470,
          25891,
          12135,
          44230,
          65460,
          9870,
          26291,
          11575,
          39730,
          68860,
          9270,
          26191,
          10775,
          17530,
          19220,
          8500,
          13910,
          8440,
          16630,
          17520,
          6700,
          11510,
          20840,
          13630,
          15420,
          6100,
          10910,
          7340,
          12830,
          15820,
          6460,
          12110,
          15840,
          14430,
          16320,
          5500,
          11870,
          17200,
          12030,
          13620,
          5260,
          11150,
          8740,
          11530,
          14320,
          5740,
          10910,
          16540,
          11130,
          15020,
          6100,
          12110,
          7800,
          9290,
          8500,
          16180,
          13090,
          13260,
          7190,
          6700,
          14680,
          11190,
          12160,
          6690,
          6100,
          15380,
          11150,
          10160,
          5790,
          6460,
          14280,
          10290,
          9620,
          6250,
          5500,
          13840,
          9630,
          9360,
          7030,
          7300,
          13380,
          9490,
          10060,
          5990,
          5260,
          13220,
          9410,
          9400,
          5550,
          5500,
          12880,
          9470,
          8960,
          7690,
          6080,
          21430,
          5800,
          57290,
          39220,
          15090,
          6480,
          16030,
          54090,
          40020,
          5890,
          6220,
          14430,
          4900,
          52690,
          37820,
          5290,
          5540,
          14030,
          5340,
          53090,
          33620,
          4690,
          5400,
          13290,
          4560,
          50490,
          34020,
          5290,
          5080,
          12430,
          4340,
          47890,
          31420,
          5050,
          5260,
          12170,
          4120,
          29820,
          15440,
          8680,
          11280,
          8370,
          18100,
          10200,
          11840,
          8580,
          10480,
          7470,
          15700,
          8500,
          14840,
          7180,
          9680,
          7430,
          14500,
          7400,
          13040,
          7540,
          10140,
          6770,
          16900,
          7560,
          12440,
          7000,
          9220,
          6430,
          15100,
          6780,
          8880,
          6210,
          14500,
          6240,
          11840,
          7160,
          8540,
          6270,
          13900,
          5800,
          4760,
          15800,
          9880,
          10600,
          5920,
          13770,
          4570,
          4060,
          14700,
          9080,
          9500,
          6720,
          11070,
          3730,
          3720,
          14800,
          8540,
          8760,
          5120,
          11330,
          3490,
          3900,
          14160,
          7880,
          8320,
          5780,
          10390,
          3250,
          3580,
          8520,
          13400,
          7900,
          5340,
          10670,
          3130,
          3260,
          13360,
          8560,
          4900,
          9850,
          13700,
          27850,
          16130,
          5840,
          8710,
          8470,
          4480,
          15200,
          12400,
          24650,
          16530,
          11500,
          7810,
          7570,
          4020,
          12700,
          11440,
          7450,
          14430,
          12240,
          7470,
          7130,
          3980,
          11800,
          10800,
          22050,
          17170,
          4640,
          7150,
          6570,
          3440,
          11260,
          10260,
          20690,
          15190,
          4400,
          7310,
          6030,
          3100,
          10700,
          5800,
          13940,
          9020,
          11030,
          7410,
          8230,
          8210,
          10710,
          4900,
          24840,
          8120,
          10130,
          6850,
          7430,
          7210,
          9610,
          4560,
          23240,
          7780,
          9570,
          6510,
          7170,
          6550,
          9050,
          4340,
          22500,
          7860,
          9430,
          6170,
          6730,
          6210,
          8510,
          4520,
          21640,
          7320,
          8990,
          5950,
          6390,
          5770,
          7970,
          15020,
          15600,
          86060,
          64885,
          17530,
          19220,
          27049,
          13420,
          14800,
          81260,
          65485,
          16630,
          17520,
          19549,
          13320,
          13900,
          79660,
          58085,
          13630,
          15420,
          17249,
          12080,
          13000,
          82860,
          52485,
          12830,
          15820,
          18249,
          13720,
          13760,
          93660,
          47085,
          12030,
          16320,
          17249,
          12760,
          12600,
          80060,
          51685,
          14430,
          13620,
          20649,
          12820,
          12060,
          82460,
          46685,
          11130,
          14320,
          16549,
          12780,
          13100,
          85460,
          47085,
          11530,
          15020,
          16949,
          12120,
          12400,
          75660,
          44885
         ],
         "y0": " ",
         "yaxis": "y"
        }
       ],
       "layout": {
        "boxmode": "group",
        "legend": {
         "tracegroupgap": 0
        },
        "template": {
         "data": {
          "bar": [
           {
            "error_x": {
             "color": "#2a3f5f"
            },
            "error_y": {
             "color": "#2a3f5f"
            },
            "marker": {
             "line": {
              "color": "#E5ECF6",
              "width": 0.5
             },
             "pattern": {
              "fillmode": "overlay",
              "size": 10,
              "solidity": 0.2
             }
            },
            "type": "bar"
           }
          ],
          "barpolar": [
           {
            "marker": {
             "line": {
              "color": "#E5ECF6",
              "width": 0.5
             },
             "pattern": {
              "fillmode": "overlay",
              "size": 10,
              "solidity": 0.2
             }
            },
            "type": "barpolar"
           }
          ],
          "carpet": [
           {
            "aaxis": {
             "endlinecolor": "#2a3f5f",
             "gridcolor": "white",
             "linecolor": "white",
             "minorgridcolor": "white",
             "startlinecolor": "#2a3f5f"
            },
            "baxis": {
             "endlinecolor": "#2a3f5f",
             "gridcolor": "white",
             "linecolor": "white",
             "minorgridcolor": "white",
             "startlinecolor": "#2a3f5f"
            },
            "type": "carpet"
           }
          ],
          "choropleth": [
           {
            "colorbar": {
             "outlinewidth": 0,
             "ticks": ""
            },
            "type": "choropleth"
           }
          ],
          "contour": [
           {
            "colorbar": {
             "outlinewidth": 0,
             "ticks": ""
            },
            "colorscale": [
             [
              0,
              "#0d0887"
             ],
             [
              0.1111111111111111,
              "#46039f"
             ],
             [
              0.2222222222222222,
              "#7201a8"
             ],
             [
              0.3333333333333333,
              "#9c179e"
             ],
             [
              0.4444444444444444,
              "#bd3786"
             ],
             [
              0.5555555555555556,
              "#d8576b"
             ],
             [
              0.6666666666666666,
              "#ed7953"
             ],
             [
              0.7777777777777778,
              "#fb9f3a"
             ],
             [
              0.8888888888888888,
              "#fdca26"
             ],
             [
              1,
              "#f0f921"
             ]
            ],
            "type": "contour"
           }
          ],
          "contourcarpet": [
           {
            "colorbar": {
             "outlinewidth": 0,
             "ticks": ""
            },
            "type": "contourcarpet"
           }
          ],
          "heatmap": [
           {
            "colorbar": {
             "outlinewidth": 0,
             "ticks": ""
            },
            "colorscale": [
             [
              0,
              "#0d0887"
             ],
             [
              0.1111111111111111,
              "#46039f"
             ],
             [
              0.2222222222222222,
              "#7201a8"
             ],
             [
              0.3333333333333333,
              "#9c179e"
             ],
             [
              0.4444444444444444,
              "#bd3786"
             ],
             [
              0.5555555555555556,
              "#d8576b"
             ],
             [
              0.6666666666666666,
              "#ed7953"
             ],
             [
              0.7777777777777778,
              "#fb9f3a"
             ],
             [
              0.8888888888888888,
              "#fdca26"
             ],
             [
              1,
              "#f0f921"
             ]
            ],
            "type": "heatmap"
           }
          ],
          "heatmapgl": [
           {
            "colorbar": {
             "outlinewidth": 0,
             "ticks": ""
            },
            "colorscale": [
             [
              0,
              "#0d0887"
             ],
             [
              0.1111111111111111,
              "#46039f"
             ],
             [
              0.2222222222222222,
              "#7201a8"
             ],
             [
              0.3333333333333333,
              "#9c179e"
             ],
             [
              0.4444444444444444,
              "#bd3786"
             ],
             [
              0.5555555555555556,
              "#d8576b"
             ],
             [
              0.6666666666666666,
              "#ed7953"
             ],
             [
              0.7777777777777778,
              "#fb9f3a"
             ],
             [
              0.8888888888888888,
              "#fdca26"
             ],
             [
              1,
              "#f0f921"
             ]
            ],
            "type": "heatmapgl"
           }
          ],
          "histogram": [
           {
            "marker": {
             "pattern": {
              "fillmode": "overlay",
              "size": 10,
              "solidity": 0.2
             }
            },
            "type": "histogram"
           }
          ],
          "histogram2d": [
           {
            "colorbar": {
             "outlinewidth": 0,
             "ticks": ""
            },
            "colorscale": [
             [
              0,
              "#0d0887"
             ],
             [
              0.1111111111111111,
              "#46039f"
             ],
             [
              0.2222222222222222,
              "#7201a8"
             ],
             [
              0.3333333333333333,
              "#9c179e"
             ],
             [
              0.4444444444444444,
              "#bd3786"
             ],
             [
              0.5555555555555556,
              "#d8576b"
             ],
             [
              0.6666666666666666,
              "#ed7953"
             ],
             [
              0.7777777777777778,
              "#fb9f3a"
             ],
             [
              0.8888888888888888,
              "#fdca26"
             ],
             [
              1,
              "#f0f921"
             ]
            ],
            "type": "histogram2d"
           }
          ],
          "histogram2dcontour": [
           {
            "colorbar": {
             "outlinewidth": 0,
             "ticks": ""
            },
            "colorscale": [
             [
              0,
              "#0d0887"
             ],
             [
              0.1111111111111111,
              "#46039f"
             ],
             [
              0.2222222222222222,
              "#7201a8"
             ],
             [
              0.3333333333333333,
              "#9c179e"
             ],
             [
              0.4444444444444444,
              "#bd3786"
             ],
             [
              0.5555555555555556,
              "#d8576b"
             ],
             [
              0.6666666666666666,
              "#ed7953"
             ],
             [
              0.7777777777777778,
              "#fb9f3a"
             ],
             [
              0.8888888888888888,
              "#fdca26"
             ],
             [
              1,
              "#f0f921"
             ]
            ],
            "type": "histogram2dcontour"
           }
          ],
          "mesh3d": [
           {
            "colorbar": {
             "outlinewidth": 0,
             "ticks": ""
            },
            "type": "mesh3d"
           }
          ],
          "parcoords": [
           {
            "line": {
             "colorbar": {
              "outlinewidth": 0,
              "ticks": ""
             }
            },
            "type": "parcoords"
           }
          ],
          "pie": [
           {
            "automargin": true,
            "type": "pie"
           }
          ],
          "scatter": [
           {
            "fillpattern": {
             "fillmode": "overlay",
             "size": 10,
             "solidity": 0.2
            },
            "type": "scatter"
           }
          ],
          "scatter3d": [
           {
            "line": {
             "colorbar": {
              "outlinewidth": 0,
              "ticks": ""
             }
            },
            "marker": {
             "colorbar": {
              "outlinewidth": 0,
              "ticks": ""
             }
            },
            "type": "scatter3d"
           }
          ],
          "scattercarpet": [
           {
            "marker": {
             "colorbar": {
              "outlinewidth": 0,
              "ticks": ""
             }
            },
            "type": "scattercarpet"
           }
          ],
          "scattergeo": [
           {
            "marker": {
             "colorbar": {
              "outlinewidth": 0,
              "ticks": ""
             }
            },
            "type": "scattergeo"
           }
          ],
          "scattergl": [
           {
            "marker": {
             "colorbar": {
              "outlinewidth": 0,
              "ticks": ""
             }
            },
            "type": "scattergl"
           }
          ],
          "scattermapbox": [
           {
            "marker": {
             "colorbar": {
              "outlinewidth": 0,
              "ticks": ""
             }
            },
            "type": "scattermapbox"
           }
          ],
          "scatterpolar": [
           {
            "marker": {
             "colorbar": {
              "outlinewidth": 0,
              "ticks": ""
             }
            },
            "type": "scatterpolar"
           }
          ],
          "scatterpolargl": [
           {
            "marker": {
             "colorbar": {
              "outlinewidth": 0,
              "ticks": ""
             }
            },
            "type": "scatterpolargl"
           }
          ],
          "scatterternary": [
           {
            "marker": {
             "colorbar": {
              "outlinewidth": 0,
              "ticks": ""
             }
            },
            "type": "scatterternary"
           }
          ],
          "surface": [
           {
            "colorbar": {
             "outlinewidth": 0,
             "ticks": ""
            },
            "colorscale": [
             [
              0,
              "#0d0887"
             ],
             [
              0.1111111111111111,
              "#46039f"
             ],
             [
              0.2222222222222222,
              "#7201a8"
             ],
             [
              0.3333333333333333,
              "#9c179e"
             ],
             [
              0.4444444444444444,
              "#bd3786"
             ],
             [
              0.5555555555555556,
              "#d8576b"
             ],
             [
              0.6666666666666666,
              "#ed7953"
             ],
             [
              0.7777777777777778,
              "#fb9f3a"
             ],
             [
              0.8888888888888888,
              "#fdca26"
             ],
             [
              1,
              "#f0f921"
             ]
            ],
            "type": "surface"
           }
          ],
          "table": [
           {
            "cells": {
             "fill": {
              "color": "#EBF0F8"
             },
             "line": {
              "color": "white"
             }
            },
            "header": {
             "fill": {
              "color": "#C8D4E3"
             },
             "line": {
              "color": "white"
             }
            },
            "type": "table"
           }
          ]
         },
         "layout": {
          "annotationdefaults": {
           "arrowcolor": "#2a3f5f",
           "arrowhead": 0,
           "arrowwidth": 1
          },
          "autotypenumbers": "strict",
          "coloraxis": {
           "colorbar": {
            "outlinewidth": 0,
            "ticks": ""
           }
          },
          "colorscale": {
           "diverging": [
            [
             0,
             "#8e0152"
            ],
            [
             0.1,
             "#c51b7d"
            ],
            [
             0.2,
             "#de77ae"
            ],
            [
             0.3,
             "#f1b6da"
            ],
            [
             0.4,
             "#fde0ef"
            ],
            [
             0.5,
             "#f7f7f7"
            ],
            [
             0.6,
             "#e6f5d0"
            ],
            [
             0.7,
             "#b8e186"
            ],
            [
             0.8,
             "#7fbc41"
            ],
            [
             0.9,
             "#4d9221"
            ],
            [
             1,
             "#276419"
            ]
           ],
           "sequential": [
            [
             0,
             "#0d0887"
            ],
            [
             0.1111111111111111,
             "#46039f"
            ],
            [
             0.2222222222222222,
             "#7201a8"
            ],
            [
             0.3333333333333333,
             "#9c179e"
            ],
            [
             0.4444444444444444,
             "#bd3786"
            ],
            [
             0.5555555555555556,
             "#d8576b"
            ],
            [
             0.6666666666666666,
             "#ed7953"
            ],
            [
             0.7777777777777778,
             "#fb9f3a"
            ],
            [
             0.8888888888888888,
             "#fdca26"
            ],
            [
             1,
             "#f0f921"
            ]
           ],
           "sequentialminus": [
            [
             0,
             "#0d0887"
            ],
            [
             0.1111111111111111,
             "#46039f"
            ],
            [
             0.2222222222222222,
             "#7201a8"
            ],
            [
             0.3333333333333333,
             "#9c179e"
            ],
            [
             0.4444444444444444,
             "#bd3786"
            ],
            [
             0.5555555555555556,
             "#d8576b"
            ],
            [
             0.6666666666666666,
             "#ed7953"
            ],
            [
             0.7777777777777778,
             "#fb9f3a"
            ],
            [
             0.8888888888888888,
             "#fdca26"
            ],
            [
             1,
             "#f0f921"
            ]
           ]
          },
          "colorway": [
           "#636efa",
           "#EF553B",
           "#00cc96",
           "#ab63fa",
           "#FFA15A",
           "#19d3f3",
           "#FF6692",
           "#B6E880",
           "#FF97FF",
           "#FECB52"
          ],
          "font": {
           "color": "#2a3f5f"
          },
          "geo": {
           "bgcolor": "white",
           "lakecolor": "white",
           "landcolor": "#E5ECF6",
           "showlakes": true,
           "showland": true,
           "subunitcolor": "white"
          },
          "hoverlabel": {
           "align": "left"
          },
          "hovermode": "closest",
          "mapbox": {
           "style": "light"
          },
          "paper_bgcolor": "white",
          "plot_bgcolor": "#E5ECF6",
          "polar": {
           "angularaxis": {
            "gridcolor": "white",
            "linecolor": "white",
            "ticks": ""
           },
           "bgcolor": "#E5ECF6",
           "radialaxis": {
            "gridcolor": "white",
            "linecolor": "white",
            "ticks": ""
           }
          },
          "scene": {
           "xaxis": {
            "backgroundcolor": "#E5ECF6",
            "gridcolor": "white",
            "gridwidth": 2,
            "linecolor": "white",
            "showbackground": true,
            "ticks": "",
            "zerolinecolor": "white"
           },
           "yaxis": {
            "backgroundcolor": "#E5ECF6",
            "gridcolor": "white",
            "gridwidth": 2,
            "linecolor": "white",
            "showbackground": true,
            "ticks": "",
            "zerolinecolor": "white"
           },
           "zaxis": {
            "backgroundcolor": "#E5ECF6",
            "gridcolor": "white",
            "gridwidth": 2,
            "linecolor": "white",
            "showbackground": true,
            "ticks": "",
            "zerolinecolor": "white"
           }
          },
          "shapedefaults": {
           "line": {
            "color": "#2a3f5f"
           }
          },
          "ternary": {
           "aaxis": {
            "gridcolor": "white",
            "linecolor": "white",
            "ticks": ""
           },
           "baxis": {
            "gridcolor": "white",
            "linecolor": "white",
            "ticks": ""
           },
           "bgcolor": "#E5ECF6",
           "caxis": {
            "gridcolor": "white",
            "linecolor": "white",
            "ticks": ""
           }
          },
          "title": {
           "x": 0.05
          },
          "xaxis": {
           "automargin": true,
           "gridcolor": "white",
           "linecolor": "white",
           "ticks": "",
           "title": {
            "standoff": 15
           },
           "zerolinecolor": "white",
           "zerolinewidth": 2
          },
          "yaxis": {
           "automargin": true,
           "gridcolor": "white",
           "linecolor": "white",
           "ticks": "",
           "title": {
            "standoff": 15
           },
           "zerolinecolor": "white",
           "zerolinewidth": 2
          }
         }
        },
        "title": {
         "text": "TCA Distribution by Affordability Tier"
        },
        "xaxis": {
         "anchor": "y",
         "domain": [
          0,
          1
         ],
         "title": {
          "text": "Affordability_Tier"
         }
        },
        "yaxis": {
         "anchor": "x",
         "domain": [
          0,
          1
         ],
         "title": {
          "text": "TCA"
         }
        }
       }
      }
     },
     "metadata": {},
     "output_type": "display_data"
    }
   ],
   "source": [
    "# Visualizing TCA by Affordability Tier\n",
    "fig = px.box(df, x='Affordability_Tier', y='TCA', title='TCA Distribution by Affordability Tier')\n",
    "fig.show()"
   ]
  },
  {
   "cell_type": "markdown",
   "id": "4c9e9b53",
   "metadata": {},
   "source": [
    "Saving Clean Data"
   ]
  },
  {
   "cell_type": "code",
   "execution_count": 12,
   "id": "d453bda9",
   "metadata": {},
   "outputs": [],
   "source": [
    "#df.to_csv('cleaned_education_costs.csv', index=False)"
   ]
  },
  {
   "cell_type": "markdown",
   "id": "e5a43541",
   "metadata": {},
   "source": [
    "Phase 2"
   ]
  },
  {
   "cell_type": "markdown",
   "id": "5593a3b9",
   "metadata": {},
   "source": [
    "Feature engineering (scaling numeric values, encoding categories)"
   ]
  },
  {
   "cell_type": "code",
   "execution_count": 13,
   "id": "50116f12",
   "metadata": {},
   "outputs": [
    {
     "name": "stdout",
     "output_type": "stream",
     "text": [
      "✅ Preprocessor saved to preprocessing/preprocessor.pkl\n"
     ]
    }
   ],
   "source": [
    "from sklearn.model_selection import train_test_split\n",
    "from sklearn.preprocessing import StandardScaler, OneHotEncoder, LabelEncoder\n",
    "from sklearn.compose import ColumnTransformer\n",
    "from sklearn.pipeline import Pipeline\n",
    "import os\n",
    "import joblib\n",
    "\n",
    "# Selecting features and targets\n",
    "features = ['Country', 'City', 'Level', 'Tuition_USD', 'Rent_USD', 'Insurance_USD']\n",
    "target_reg = 'TCA'\n",
    "target_cls = 'Affordability_Tier'\n",
    "\n",
    "X = df[features]\n",
    "y_reg = df[target_reg]\n",
    "y_cls_raw = df[target_cls]  # preserving raw labels for encoding\n",
    "\n",
    "# Encoding classification target before splitting\n",
    "le = LabelEncoder()\n",
    "y_cls = le.fit_transform(y_cls_raw)\n",
    "\n",
    "# Splitting data\n",
    "X_train, X_test, y_reg_train, y_reg_test, y_cls_train, y_cls_test = train_test_split(\n",
    "    X, y_reg, y_cls, test_size=0.2, random_state=42)\n",
    "\n",
    "# Defining transformers\n",
    "cat_cols = ['Country', 'City', 'Level']\n",
    "num_cols = ['Tuition_USD', 'Rent_USD', 'Insurance_USD']\n",
    "\n",
    "preprocessor = ColumnTransformer([\n",
    "    (\"num\", StandardScaler(), num_cols),\n",
    "    (\"cat\", OneHotEncoder(handle_unknown=\"ignore\"), cat_cols)\n",
    "])\n",
    "\n",
    "# ✅ Fitting preprocessor and save it for deployment\n",
    "preprocessor.fit(X_train)\n",
    "\n",
    "os.makedirs(\"preprocessing\", exist_ok=True)\n",
    "joblib.dump(preprocessor, \"preprocessing/preprocessor.pkl\")\n",
    "print(\"✅ Preprocessor saved to preprocessing/preprocessor.pkl\")"
   ]
  },
  {
   "cell_type": "code",
   "execution_count": 14,
   "id": "eb838394",
   "metadata": {},
   "outputs": [
    {
     "name": "stdout",
     "output_type": "stream",
     "text": [
      "(725, 6)\n",
      "(725,)\n"
     ]
    }
   ],
   "source": [
    "print(X_train.shape)\n",
    "print(y_cls_train.shape)\n"
   ]
  },
  {
   "cell_type": "markdown",
   "id": "392e2fae",
   "metadata": {},
   "source": [
    "Training regressor models to predict TCA  \n",
    "Random Forest  \n",
    "XGBoost  \n",
    "Gradient Boosting"
   ]
  },
  {
   "cell_type": "code",
   "execution_count": 15,
   "id": "649b9052",
   "metadata": {},
   "outputs": [
    {
     "name": "stdout",
     "output_type": "stream",
     "text": [
      "\n",
      "📊 Random Forest - Regression Metrics:\n",
      "MAE: 447.05\n",
      "RMSE: 673.05\n",
      "R² Score: 1.00\n",
      "\n",
      "📊 XGBoost - Regression Metrics:\n",
      "MAE: 514.19\n",
      "RMSE: 807.72\n",
      "R² Score: 1.00\n",
      "\n",
      "📊 Gradient Boosting - Regression Metrics:\n",
      "MAE: 484.78\n",
      "RMSE: 663.77\n",
      "R² Score: 1.00\n"
     ]
    }
   ],
   "source": [
    "from sklearn.ensemble import RandomForestRegressor, GradientBoostingRegressor\n",
    "from xgboost import XGBRegressor\n",
    "from sklearn.metrics import mean_absolute_error, mean_squared_error, r2_score\n",
    "\n",
    "regressors = {\n",
    "    'Random Forest': RandomForestRegressor(random_state=42),\n",
    "    'XGBoost': XGBRegressor(random_state=42, verbosity=0),\n",
    "    'Gradient Boosting': GradientBoostingRegressor(random_state=42)\n",
    "}\n",
    "for name, model in regressors.items():\n",
    "    pipeline = Pipeline([\n",
    "        ('preprocessor', preprocessor),\n",
    "        ('model', model)\n",
    "    ])\n",
    "    \n",
    "    pipeline.fit(X_train, y_reg_train)\n",
    "    preds = pipeline.predict(X_test)\n",
    "\n",
    "    print(f\"\\n📊 {name} - Regression Metrics:\")\n",
    "    print(f\"MAE: {mean_absolute_error(y_reg_test, preds):.2f}\")\n",
    "    print(f\"RMSE: {np.sqrt(mean_squared_error(y_reg_test, preds)):.2f}\")\n",
    "    print(f\"R² Score: {r2_score(y_reg_test, preds):.2f}\")"
   ]
  },
  {
   "cell_type": "code",
   "execution_count": 16,
   "id": "6a3119b0",
   "metadata": {},
   "outputs": [
    {
     "name": "stdout",
     "output_type": "stream",
     "text": [
      "scikit-learn: 1.3.2\n",
      "xgboost: 2.0.3\n"
     ]
    }
   ],
   "source": [
    "import sklearn\n",
    "import xgboost\n",
    "print(\"scikit-learn:\", sklearn.__version__)\n",
    "print(\"xgboost:\", xgboost.__version__)\n"
   ]
  },
  {
   "cell_type": "markdown",
   "id": "1a7f91c2",
   "metadata": {},
   "source": [
    "Training classification models to label destinations as Low, Medium, or High cost  \n",
    "Random Forest  \n",
    "XGBoost  \n",
    "Gradient Boosting"
   ]
  },
  {
   "cell_type": "code",
   "execution_count": 17,
   "id": "17845228",
   "metadata": {},
   "outputs": [
    {
     "name": "stdout",
     "output_type": "stream",
     "text": [
      "\n",
      "📊 Random Forest - Classification Metrics:\n",
      "Accuracy: 0.93\n",
      "F1 Score: 0.93\n",
      "\n",
      "📊 XGBoost - Classification Metrics:\n",
      "Accuracy: 0.95\n",
      "F1 Score: 0.95\n",
      "\n",
      "📊 Gradient Boosting - Classification Metrics:\n",
      "Accuracy: 0.92\n",
      "F1 Score: 0.92\n"
     ]
    }
   ],
   "source": [
    "from sklearn.ensemble import RandomForestClassifier, GradientBoostingClassifier\n",
    "from xgboost import XGBClassifier\n",
    "from sklearn.metrics import accuracy_score, f1_score\n",
    "\n",
    "classifiers = {\n",
    "    'Random Forest': RandomForestClassifier(random_state=42),\n",
    "    'XGBoost': XGBClassifier(random_state=42, use_label_encoder=False, eval_metric='mlogloss'),\n",
    "    'Gradient Boosting': GradientBoostingClassifier(random_state=42)\n",
    "}\n",
    "\n",
    "for name, model in classifiers.items():\n",
    "    pipe = Pipeline([\n",
    "        ('preprocessor', preprocessor),\n",
    "        ('model', model)\n",
    "    ])\n",
    "    pipe.fit(X_train, y_cls_train)\n",
    "    preds = pipe.predict(X_test)\n",
    "    print(f\"\\n📊 {name} - Classification Metrics:\")\n",
    "    print(f\"Accuracy: {accuracy_score(y_cls_test, preds):.2f}\")\n",
    "    print(f\"F1 Score: {f1_score(y_cls_test, preds, average='weighted'):.2f}\")"
   ]
  },
  {
   "cell_type": "markdown",
   "id": "1fdf8a6e",
   "metadata": {},
   "source": [
    "Model Evaluation "
   ]
  },
  {
   "cell_type": "markdown",
   "id": "bdb58aa7",
   "metadata": {},
   "source": [
    "Evaluating Classification Models — Confusion Matrix & F1 Score"
   ]
  },
  {
   "cell_type": "code",
   "execution_count": 18,
   "id": "f0152860",
   "metadata": {},
   "outputs": [
    {
     "name": "stdout",
     "output_type": "stream",
     "text": [
      "\n",
      "🧮 Random Forest - Confusion Matrix & Report\n"
     ]
    },
    {
     "data": {
      "image/png": "[encoded data removed]",
      "text/plain": [
       "<Figure size 640x480 with 2 Axes>"
      ]
     },
     "metadata": {},
     "output_type": "display_data"
    },
    {
     "name": "stdout",
     "output_type": "stream",
     "text": [
      "              precision    recall  f1-score   support\n",
      "\n",
      "           0       0.97      0.94      0.95        62\n",
      "           1       0.94      0.93      0.94        55\n",
      "           2       0.88      0.92      0.90        65\n",
      "\n",
      "    accuracy                           0.93       182\n",
      "   macro avg       0.93      0.93      0.93       182\n",
      "weighted avg       0.93      0.93      0.93       182\n",
      "\n",
      "\n",
      "🧮 XGBoost - Confusion Matrix & Report\n"
     ]
    },
    {
     "data": {
      "image/png": "[encoded data removed]",
      "text/plain": [
       "<Figure size 640x480 with 2 Axes>"
      ]
     },
     "metadata": {},
     "output_type": "display_data"
    },
    {
     "name": "stdout",
     "output_type": "stream",
     "text": [
      "              precision    recall  f1-score   support\n",
      "\n",
      "           0       0.98      0.97      0.98        62\n",
      "           1       0.98      0.91      0.94        55\n",
      "           2       0.90      0.97      0.93        65\n",
      "\n",
      "    accuracy                           0.95       182\n",
      "   macro avg       0.95      0.95      0.95       182\n",
      "weighted avg       0.95      0.95      0.95       182\n",
      "\n",
      "\n",
      "🧮 Gradient Boosting - Confusion Matrix & Report\n"
     ]
    },
    {
     "data": {
      "image/png": "[encoded data removed]",
      "text/plain": [
       "<Figure size 640x480 with 2 Axes>"
      ]
     },
     "metadata": {},
     "output_type": "display_data"
    },
    {
     "name": "stdout",
     "output_type": "stream",
     "text": [
      "              precision    recall  f1-score   support\n",
      "\n",
      "           0       1.00      0.94      0.97        62\n",
      "           1       0.92      0.89      0.91        55\n",
      "           2       0.86      0.94      0.90        65\n",
      "\n",
      "    accuracy                           0.92       182\n",
      "   macro avg       0.93      0.92      0.92       182\n",
      "weighted avg       0.93      0.92      0.92       182\n",
      "\n"
     ]
    }
   ],
   "source": [
    "from sklearn.metrics import confusion_matrix, ConfusionMatrixDisplay, classification_report\n",
    "\n",
    "for name, model in classifiers.items():\n",
    "    pipeline = Pipeline([\n",
    "        ('preprocessor', preprocessor),\n",
    "        ('model', model)\n",
    "    ])\n",
    "    pipeline.fit(X_train, y_cls_train)\n",
    "    preds = pipeline.predict(X_test)\n",
    "\n",
    "    print(f\"\\n🧮 {name} - Confusion Matrix & Report\")\n",
    "    cm = confusion_matrix(y_cls_test, preds)\n",
    "    disp = ConfusionMatrixDisplay(confusion_matrix=cm, display_labels=model.classes_)\n",
    "    disp.plot(cmap='Blues')\n",
    "    plt.title(f\"{name} - Confusion Matrix\")\n",
    "    plt.show()\n",
    "\n",
    "    print(classification_report(y_cls_test, preds))\n"
   ]
  },
  {
   "cell_type": "markdown",
   "id": "53dea387",
   "metadata": {},
   "source": [
    "Visualizing clustering using PCA"
   ]
  },
  {
   "cell_type": "code",
   "execution_count": 19,
   "id": "cf2f2c49",
   "metadata": {},
   "outputs": [
    {
     "data": {
      "image/png": "[encoded data removed]",
      "text/plain": [
       "<Figure size 800x500 with 2 Axes>"
      ]
     },
     "metadata": {},
     "output_type": "display_data"
    }
   ],
   "source": [
    "# ✅ Clustering Section with Sparse to Dense Fix\n",
    "\n",
    "from sklearn.cluster import KMeans\n",
    "from sklearn.decomposition import PCA\n",
    "\n",
    "# Transform and convert to dense\n",
    "X_scaled_sparse = preprocessor.fit_transform(X)\n",
    "X_scaled = X_scaled_sparse.toarray() if hasattr(X_scaled_sparse, \"toarray\") else X_scaled_sparse\n",
    "\n",
    "# KMeans Clustering\n",
    "kmeans = KMeans(n_clusters=3, random_state=42)\n",
    "clusters = kmeans.fit_predict(X_scaled)\n",
    "\n",
    "# Dimensionality Reduction with PCA\n",
    "pca = PCA(n_components=2)\n",
    "X_pca = pca.fit_transform(X_scaled)\n",
    "\n",
    "# Visualization\n",
    "plt.figure(figsize=(8, 5))\n",
    "plt.scatter(X_pca[:, 0], X_pca[:, 1], c=clusters, cmap='viridis', s=30)\n",
    "plt.title(\"KMeans Clustering of University Cost Profiles\")\n",
    "plt.xlabel(\"PCA Component 1\")\n",
    "plt.ylabel(\"PCA Component 2\")\n",
    "plt.colorbar(label='Cluster')\n",
    "plt.show()"
   ]
  },
  {
   "cell_type": "markdown",
   "id": "5bda51ff",
   "metadata": {},
   "source": [
    "MLflow Logging"
   ]
  },
  {
   "cell_type": "markdown",
   "id": "98087ac8",
   "metadata": {},
   "source": [
    "Regression logging"
   ]
  },
  {
   "cell_type": "code",
   "execution_count": 20,
   "id": "bfdd18e5",
   "metadata": {},
   "outputs": [
    {
     "name": "stdout",
     "output_type": "stream",
     "text": [
      "🧹 Previous runs deleted successfully.\n",
      "✅ Logged Random Forest Regressor to MLflow\n",
      "✅ Logged XGBoost Regressor to MLflow\n",
      "✅ Logged Gradient Boosting Regressor to MLflow\n"
     ]
    }
   ],
   "source": [
    "from sklearn.pipeline import Pipeline\n",
    "from sklearn.metrics import mean_absolute_error, mean_squared_error, r2_score\n",
    "from mlflow.models.signature import infer_signature\n",
    "from mlflow.tracking import MlflowClient\n",
    "import mlflow\n",
    "import mlflow.sklearn\n",
    "import pandas as pd\n",
    "import numpy as np\n",
    "\n",
    "# Initialize MLflow client and experiment\n",
    "client = MlflowClient()\n",
    "experiment_name = \"EduSpend_Predictive_Models\"\n",
    "\n",
    "# Get or create experiment\n",
    "experiment = client.get_experiment_by_name(experiment_name)\n",
    "if experiment is None:\n",
    "    experiment_id = client.create_experiment(experiment_name)\n",
    "else:\n",
    "    experiment_id = experiment.experiment_id\n",
    "\n",
    "# ✅ Clear all previous runs (safe version)\n",
    "try:\n",
    "    all_runs = client.search_runs([experiment_id])\n",
    "    for run in all_runs:\n",
    "        run_id = run.info.run_id\n",
    "        client.delete_run(run_id)\n",
    "    print(\"🧹 Previous runs deleted successfully.\")\n",
    "except Exception as e:\n",
    "    print(f\"⚠️ Failed to delete runs: {e}\")\n",
    "\n",
    "# Define regression models\n",
    "regressors = {\n",
    "    'Random Forest': RandomForestRegressor(random_state=42),\n",
    "    'XGBoost': XGBRegressor(random_state=42, verbosity=0),\n",
    "    'Gradient Boosting': GradientBoostingRegressor(random_state=42)\n",
    "}\n",
    "\n",
    "mlflow.set_experiment(experiment_name)\n",
    "\n",
    "# Logging each model\n",
    "for name, model in regressors.items():\n",
    "    with mlflow.start_run(run_name=f\"{name} Regressor\"):\n",
    "        pipeline = Pipeline([\n",
    "            ('preprocessor', preprocessor),\n",
    "            ('model', model)\n",
    "        ])\n",
    "        pipeline.fit(X_train, y_reg_train)\n",
    "        preds = pipeline.predict(X_test)\n",
    "\n",
    "        mlflow.log_param(\"model_name\", name)\n",
    "        mlflow.log_metric(\"MAE\", mean_absolute_error(y_reg_test, preds))\n",
    "        mlflow.log_metric(\"RMSE\", np.sqrt(mean_squared_error(y_reg_test, preds)))\n",
    "        mlflow.log_metric(\"R2\", r2_score(y_reg_test, preds))\n",
    "\n",
    "        signature = infer_signature(X_test, preds)\n",
    "        input_example = pd.DataFrame(X_test[:1], columns=X_test.columns)\n",
    "        mlflow.sklearn.log_model(sk_model=pipeline, artifact_path=\"regression_model\", signature=signature, input_example=input_example)\n",
    "\n",
    "        print(f\"✅ Logged {name} Regressor to MLflow\")"
   ]
  },
  {
   "cell_type": "markdown",
   "id": "8b3d634e",
   "metadata": {},
   "source": [
    "Classification logging"
   ]
  },
  {
   "cell_type": "code",
   "execution_count": 21,
   "id": "474d835c",
   "metadata": {},
   "outputs": [
    {
     "name": "stdout",
     "output_type": "stream",
     "text": [
      "✅ Logged Random Forest Classifier to MLflow\n",
      "✅ Logged XGBoost Classifier to MLflow\n",
      "✅ Logged Gradient Boosting Classifier to MLflow\n"
     ]
    }
   ],
   "source": [
    "from sklearn.metrics import accuracy_score, f1_score\n",
    "\n",
    "classifiers = {\n",
    "    'Random Forest': RandomForestClassifier(random_state=42),\n",
    "    'XGBoost': XGBClassifier(random_state=42, verbosity=0),\n",
    "    'Gradient Boosting': GradientBoostingClassifier(random_state=42)\n",
    "}\n",
    "\n",
    "mlflow.set_experiment(\"EduSpend_Predictive_Models\")\n",
    "\n",
    "for name, model in classifiers.items():\n",
    "    with mlflow.start_run(run_name=f\"{name} Classifier\"):\n",
    "        pipeline = Pipeline([\n",
    "            ('preprocessor', preprocessor),\n",
    "            ('model', model)\n",
    "        ])\n",
    "        pipeline.fit(X_train, y_cls_train)\n",
    "        preds = pipeline.predict(X_test)\n",
    "\n",
    "        mlflow.log_param(\"model_name\", name)\n",
    "        mlflow.log_metric(\"Accuracy\", accuracy_score(y_cls_test, preds))\n",
    "        mlflow.log_metric(\"F1 Score\", f1_score(y_cls_test, preds, average='weighted'))\n",
    "\n",
    "        signature = infer_signature(X_test, preds)\n",
    "        input_example = pd.DataFrame(X_test[:1], columns=X_test.columns)\n",
    "        mlflow.sklearn.log_model(\n",
    "            sk_model=pipeline,\n",
    "            artifact_path=\"classification_model\",\n",
    "            signature=signature,\n",
    "            input_example=input_example\n",
    "        )\n",
    "\n",
    "        print(f\"✅ Logged {name} Classifier to MLflow\")"
   ]
  },
  {
   "cell_type": "markdown",
   "id": "be8b52b5",
   "metadata": {},
   "source": [
    "✅ Fetching Model Metrics from MLflow"
   ]
  },
  {
   "cell_type": "code",
   "execution_count": 22,
   "id": "40901913",
   "metadata": {},
   "outputs": [
    {
     "data": {
      "text/html": [
       "<div>\n",
       "<style scoped>\n",
       "    .dataframe tbody tr th:only-of-type {\n",
       "        vertical-align: middle;\n",
       "    }\n",
       "\n",
       "    .dataframe tbody tr th {\n",
       "        vertical-align: top;\n",
       "    }\n",
       "\n",
       "    .dataframe thead th {\n",
       "        text-align: right;\n",
       "    }\n",
       "</style>\n",
       "<table border=\"1\" class=\"dataframe\">\n",
       "  <thead>\n",
       "    <tr style=\"text-align: right;\">\n",
       "      <th></th>\n",
       "      <th>Model</th>\n",
       "      <th>Accuracy</th>\n",
       "      <th>F1 Score</th>\n",
       "      <th>MAE</th>\n",
       "      <th>R2</th>\n",
       "      <th>RMSE</th>\n",
       "    </tr>\n",
       "  </thead>\n",
       "  <tbody>\n",
       "    <tr>\n",
       "      <th>0</th>\n",
       "      <td>Gradient Boosting Classifier</td>\n",
       "      <td>0.923077</td>\n",
       "      <td>0.923899</td>\n",
       "      <td>NaN</td>\n",
       "      <td>NaN</td>\n",
       "      <td>NaN</td>\n",
       "    </tr>\n",
       "    <tr>\n",
       "      <th>1</th>\n",
       "      <td>Gradient Boosting Regressor</td>\n",
       "      <td>NaN</td>\n",
       "      <td>NaN</td>\n",
       "      <td>484.779085</td>\n",
       "      <td>0.998984</td>\n",
       "      <td>663.773772</td>\n",
       "    </tr>\n",
       "    <tr>\n",
       "      <th>2</th>\n",
       "      <td>Random Forest Classifier</td>\n",
       "      <td>0.928571</td>\n",
       "      <td>0.928930</td>\n",
       "      <td>NaN</td>\n",
       "      <td>NaN</td>\n",
       "      <td>NaN</td>\n",
       "    </tr>\n",
       "    <tr>\n",
       "      <th>3</th>\n",
       "      <td>Random Forest Regressor</td>\n",
       "      <td>NaN</td>\n",
       "      <td>NaN</td>\n",
       "      <td>447.050604</td>\n",
       "      <td>0.998955</td>\n",
       "      <td>673.052852</td>\n",
       "    </tr>\n",
       "    <tr>\n",
       "      <th>4</th>\n",
       "      <td>XGBoost Classifier</td>\n",
       "      <td>0.950549</td>\n",
       "      <td>0.950776</td>\n",
       "      <td>NaN</td>\n",
       "      <td>NaN</td>\n",
       "      <td>NaN</td>\n",
       "    </tr>\n",
       "    <tr>\n",
       "      <th>5</th>\n",
       "      <td>XGBoost Regressor</td>\n",
       "      <td>NaN</td>\n",
       "      <td>NaN</td>\n",
       "      <td>514.189162</td>\n",
       "      <td>0.998496</td>\n",
       "      <td>807.718927</td>\n",
       "    </tr>\n",
       "  </tbody>\n",
       "</table>\n",
       "</div>"
      ],
      "text/plain": [
       "                          Model  Accuracy  F1 Score         MAE        R2  \\\n",
       "0  Gradient Boosting Classifier  0.923077  0.923899         NaN       NaN   \n",
       "1   Gradient Boosting Regressor       NaN       NaN  484.779085  0.998984   \n",
       "2      Random Forest Classifier  0.928571  0.928930         NaN       NaN   \n",
       "3       Random Forest Regressor       NaN       NaN  447.050604  0.998955   \n",
       "4            XGBoost Classifier  0.950549  0.950776         NaN       NaN   \n",
       "5             XGBoost Regressor       NaN       NaN  514.189162  0.998496   \n",
       "\n",
       "         RMSE  \n",
       "0         NaN  \n",
       "1  663.773772  \n",
       "2         NaN  \n",
       "3  673.052852  \n",
       "4         NaN  \n",
       "5  807.718927  "
      ]
     },
     "execution_count": 22,
     "metadata": {},
     "output_type": "execute_result"
    }
   ],
   "source": [
    "from mlflow.tracking import MlflowClient\n",
    "import pandas as pd\n",
    "\n",
    "client = MlflowClient()\n",
    "experiment_name = \"EduSpend_Predictive_Models\"\n",
    "experiment = client.get_experiment_by_name(experiment_name)\n",
    "experiment_id = experiment.experiment_id\n",
    "\n",
    "# Fetching all runs safely\n",
    "runs = client.search_runs([experiment_id])\n",
    "model_run_map = {}\n",
    "\n",
    "for run in runs:\n",
    "    run_data = run.data\n",
    "    run_name = run_data.tags.get(\"mlflow.runName\", \"Unnamed Run\")\n",
    "    metrics = run_data.metrics\n",
    "\n",
    "    entry = {\"Model\": run_name}\n",
    "    entry.update(metrics)\n",
    "    model_run_map[run.info.run_id] = entry  # Use run_id as key to prevent overwrite\n",
    "\n",
    "mlflow_metrics_df = pd.DataFrame(model_run_map.values())\n",
    "mlflow_metrics_df = mlflow_metrics_df.sort_values(by='Model').reset_index(drop=True)\n",
    "mlflow_metrics_df"
   ]
  },
  {
   "cell_type": "markdown",
   "id": "aaaa522c",
   "metadata": {},
   "source": [
    "📊 Regression Model Comparison Plot (MAE, RMSE, R²)"
   ]
  },
  {
   "cell_type": "code",
   "execution_count": 23,
   "id": "752a8baf",
   "metadata": {},
   "outputs": [
    {
     "data": {
      "image/png": "[encoded data removed]",
      "text/plain": [
       "<Figure size 1000x400 with 1 Axes>"
      ]
     },
     "metadata": {},
     "output_type": "display_data"
    },
    {
     "data": {
      "image/png": "[encoded data removed]",
      "text/plain": [
       "<Figure size 1000x400 with 1 Axes>"
      ]
     },
     "metadata": {},
     "output_type": "display_data"
    },
    {
     "data": {
      "image/png": "[encoded data removed]",
      "text/plain": [
       "<Figure size 1000x400 with 1 Axes>"
      ]
     },
     "metadata": {},
     "output_type": "display_data"
    }
   ],
   "source": [
    "def highlight_best(df, metric, higher_is_better=True):\n",
    "    best_idx = df[metric].idxmax() if higher_is_better else df[metric].idxmin()\n",
    "    return ['orange' if i == best_idx else 'steelblue' for i in df.index]\n",
    "\n",
    "\n",
    "regression_metrics_df = mlflow_metrics_df[mlflow_metrics_df['Model'].str.contains(\"Regressor\")]\n",
    "regression_metrics = {\n",
    "    \"MAE\": False,\n",
    "    \"RMSE\": False,\n",
    "    \"R2\": True\n",
    "}\n",
    "\n",
    "for metric, higher_is_better in regression_metrics.items():\n",
    "    if metric in regression_metrics_df.columns:\n",
    "        plt.figure(figsize=(10, 4))\n",
    "        ax = sns.barplot(\n",
    "            x='Model',\n",
    "            y=metric,\n",
    "            data=regression_metrics_df,\n",
    "            palette=highlight_best(regression_metrics_df, metric, higher_is_better)\n",
    "        )\n",
    "        plt.title(f\"{metric} by Regression Model\")\n",
    "        plt.xticks(rotation=45)\n",
    "        plt.tight_layout()\n",
    "\n",
    "        for p in ax.patches:\n",
    "            value = p.get_height()\n",
    "            ax.annotate(f\"{value:.2f}\", (p.get_x() + p.get_width() / 2, value),\n",
    "                        ha='center', va='bottom', fontsize=10)\n",
    "\n",
    "        plt.show()"
   ]
  },
  {
   "cell_type": "markdown",
   "id": "60509328",
   "metadata": {},
   "source": [
    "📊 Classification Model Comparison Plot (Accuracy, F1 Score)"
   ]
  },
  {
   "cell_type": "code",
   "execution_count": 24,
   "id": "4808aedf",
   "metadata": {},
   "outputs": [
    {
     "data": {
      "image/png": "[encoded data removed]",
      "text/plain": [
       "<Figure size 1000x400 with 1 Axes>"
      ]
     },
     "metadata": {},
     "output_type": "display_data"
    },
    {
     "data": {
      "image/png": "[encoded data removed]",
      "text/plain": [
       "<Figure size 1000x400 with 1 Axes>"
      ]
     },
     "metadata": {},
     "output_type": "display_data"
    }
   ],
   "source": [
    "classification_metrics_df = mlflow_metrics_df[mlflow_metrics_df['Model'].str.contains(\"Classifier\")]\n",
    "classification_metrics = {\n",
    "    \"Accuracy\": True,\n",
    "    \"F1 Score\": True\n",
    "}\n",
    "\n",
    "for metric, higher_is_better in classification_metrics.items():\n",
    "    if metric in classification_metrics_df.columns:\n",
    "        plt.figure(figsize=(10, 4))\n",
    "        ax = sns.barplot(\n",
    "            x='Model',\n",
    "            y=metric,\n",
    "            data=classification_metrics_df,\n",
    "            palette=highlight_best(classification_metrics_df, metric, higher_is_better)\n",
    "        )\n",
    "        plt.title(f\"{metric} by Classification Model\")\n",
    "        plt.xticks(rotation=45)\n",
    "        plt.tight_layout()\n",
    "\n",
    "        for p in ax.patches:\n",
    "            value = p.get_height()\n",
    "            ax.annotate(f\"{value:.2f}\", (p.get_x() + p.get_width() / 2, value),\n",
    "                        ha='center', va='bottom', fontsize=10)\n",
    "\n",
    "        plt.show()"
   ]
  },
  {
   "cell_type": "markdown",
   "id": "c578d1a8",
   "metadata": {},
   "source": [
    "✅ Auto-Selecting Best Model from MLflow by Metric"
   ]
  },
  {
   "cell_type": "code",
   "execution_count": 25,
   "id": "3889fc30",
   "metadata": {},
   "outputs": [],
   "source": [
    "from mlflow.tracking import MlflowClient\n",
    "import pandas as pd\n",
    "\n",
    "client = MlflowClient()\n",
    "experiment = client.get_experiment_by_name(\"EduSpend_Predictive_Models\")\n",
    "experiment_id = experiment.experiment_id\n",
    "runs = client.search_runs(experiment_id)\n",
    "\n",
    "# Collect run info\n",
    "metrics_list = []\n",
    "run_ids = []\n",
    "for run in runs:\n",
    "    run_name = run.data.tags.get(\"mlflow.runName\", \"Unnamed Run\")\n",
    "    run_id = run.info.run_id\n",
    "    data = run.data.metrics\n",
    "    entry = {\"Run ID\": run_id, \"Model\": run_name}\n",
    "    entry.update(data)\n",
    "    metrics_list.append(entry)\n",
    "\n",
    "mlflow_metrics_df = pd.DataFrame(metrics_list)"
   ]
  },
  {
   "cell_type": "markdown",
   "id": "d97c607a",
   "metadata": {},
   "source": [
    "🔍 1. Best Regression Model (lowest RMSE)"
   ]
  },
  {
   "cell_type": "code",
   "execution_count": 26,
   "id": "415c2843",
   "metadata": {},
   "outputs": [
    {
     "name": "stdout",
     "output_type": "stream",
     "text": [
      "🏆 Best Regressor:\n",
      "Run ID      0497f6bf37904d50a0f52134ff66ecf2\n",
      "Model            Gradient Boosting Regressor\n",
      "Accuracy                                 NaN\n",
      "F1 Score                                 NaN\n",
      "MAE                               484.779085\n",
      "R2                                  0.998984\n",
      "RMSE                              663.773772\n",
      "Name: 3, dtype: object\n"
     ]
    }
   ],
   "source": [
    "best_reg = mlflow_metrics_df[mlflow_metrics_df['Model'].str.contains(\"Regressor\")]\n",
    "best_reg_model = best_reg.sort_values(\"RMSE\").iloc[0]\n",
    "print(\"🏆 Best Regressor:\")\n",
    "print(best_reg_model)"
   ]
  },
  {
   "cell_type": "markdown",
   "id": "bab8a3b9",
   "metadata": {},
   "source": [
    "🔍 2. Best Classification Model (highest F1 Score or Accuracy)"
   ]
  },
  {
   "cell_type": "code",
   "execution_count": 27,
   "id": "5dd64423",
   "metadata": {},
   "outputs": [
    {
     "name": "stdout",
     "output_type": "stream",
     "text": [
      "🏆 Best Classifier:\n",
      "Run ID      181b636b512c428cb1a22403be5158df\n",
      "Model                     XGBoost Classifier\n",
      "Accuracy                            0.950549\n",
      "F1 Score                            0.950776\n",
      "MAE                                      NaN\n",
      "R2                                       NaN\n",
      "RMSE                                     NaN\n",
      "Name: 1, dtype: object\n"
     ]
    }
   ],
   "source": [
    "best_cls = mlflow_metrics_df[mlflow_metrics_df['Model'].str.contains(\"Classifier\")]\n",
    "best_cls_model = best_cls.sort_values(\"F1 Score\", ascending=False).iloc[0]\n",
    "print(\"🏆 Best Classifier:\")\n",
    "print(best_cls_model)"
   ]
  },
  {
   "cell_type": "markdown",
   "id": "ddecc5a9",
   "metadata": {},
   "source": [
    "✅ Hyperparameter Tuning with RandomizedSearchCV"
   ]
  },
  {
   "cell_type": "markdown",
   "id": "718239f6",
   "metadata": {},
   "source": [
    "Regression Models"
   ]
  },
  {
   "cell_type": "code",
   "execution_count": 28,
   "id": "a56ae844",
   "metadata": {},
   "outputs": [
    {
     "name": "stdout",
     "output_type": "stream",
     "text": [
      "Fitting 5 folds for each of 25 candidates, totalling 125 fits\n",
      "\n",
      "🔍 Best parameters for Random Forest:\n",
      "{'model__n_estimators': 300, 'model__min_samples_split': 2, 'model__min_samples_leaf': 1, 'model__max_depth': 20}\n",
      "📉 Best RMSE (CV): 896.71\n",
      "Fitting 5 folds for each of 25 candidates, totalling 125 fits\n",
      "\n",
      "🔍 Best parameters for XGBoost:\n",
      "{'model__subsample': 0.8, 'model__n_estimators': 200, 'model__max_depth': 5, 'model__learning_rate': 0.05}\n",
      "📉 Best RMSE (CV): 592.68\n",
      "Fitting 5 folds for each of 18 candidates, totalling 90 fits\n",
      "\n",
      "🔍 Best parameters for Gradient Boosting:\n",
      "{'model__n_estimators': 200, 'model__max_depth': 5, 'model__learning_rate': 0.05}\n",
      "📉 Best RMSE (CV): 686.86\n"
     ]
    }
   ],
   "source": [
    "from sklearn.model_selection import RandomizedSearchCV\n",
    "\n",
    "# Defining hyperparameter spaces for regression models\n",
    "regressor_params = {\n",
    "    'Random Forest': {\n",
    "        'model': [RandomForestRegressor(random_state=42)],\n",
    "        'params': {\n",
    "            'model__n_estimators': [100, 200, 300],\n",
    "            'model__max_depth': [None, 10, 20, 30],\n",
    "            'model__min_samples_split': [2, 5, 10],\n",
    "            'model__min_samples_leaf': [1, 2, 4]\n",
    "        }\n",
    "    },\n",
    "    'XGBoost': {\n",
    "        'model': [XGBRegressor(random_state=42, verbosity=0)],\n",
    "        'params': {\n",
    "            'model__n_estimators': [100, 200, 300],\n",
    "            'model__max_depth': [3, 5, 7],\n",
    "            'model__learning_rate': [0.01, 0.05, 0.1],\n",
    "            'model__subsample': [0.7, 0.8, 1.0]\n",
    "        }\n",
    "    },\n",
    "    'Gradient Boosting': {\n",
    "        'model': [GradientBoostingRegressor(random_state=42)],\n",
    "        'params': {\n",
    "            'model__n_estimators': [100, 200],\n",
    "            'model__learning_rate': [0.05, 0.1, 0.2],\n",
    "            'model__max_depth': [3, 5, 7]\n",
    "        }\n",
    "    }\n",
    "}\n",
    "\n",
    "# Running RandomizedSearchCV for each regressor\n",
    "for name, config in regressor_params.items():\n",
    "    pipe = Pipeline([\n",
    "        ('preprocessor', preprocessor),\n",
    "        ('model', config['model'][0])\n",
    "    ])\n",
    "    \n",
    "    search = RandomizedSearchCV(pipe, config['params'], n_iter=25, cv=5,\n",
    "                                scoring='neg_root_mean_squared_error', random_state=42,\n",
    "                                verbose=1, n_jobs=-1)\n",
    "    search.fit(X_train, y_reg_train)\n",
    "    \n",
    "    print(f\"\\n🔍 Best parameters for {name}:\")\n",
    "    print(search.best_params_)\n",
    "    print(f\"📉 Best RMSE (CV): {-search.best_score_:.2f}\")"
   ]
  },
  {
   "cell_type": "markdown",
   "id": "e504512b",
   "metadata": {},
   "source": [
    "Best Model Tracking(Regression) + MLflow Logging"
   ]
  },
  {
   "cell_type": "code",
   "execution_count": 29,
   "id": "24b90315",
   "metadata": {},
   "outputs": [
    {
     "name": "stdout",
     "output_type": "stream",
     "text": [
      "Fitting 3 folds for each of 10 candidates, totalling 30 fits\n",
      "\n",
      "✅ Random Forest - Best Parameters:\n",
      "{'model__n_estimators': 300, 'model__min_samples_split': 2, 'model__min_samples_leaf': 1, 'model__max_depth': 30}\n",
      "📊 Evaluation on Test Set:\n",
      "MAE: 441.87\n",
      "RMSE: 671.16\n",
      "R² Score: 1.00\n",
      "Fitting 3 folds for each of 10 candidates, totalling 30 fits\n",
      "\n",
      "✅ XGBoost - Best Parameters:\n",
      "{'model__subsample': 0.8, 'model__n_estimators': 300, 'model__max_depth': 5, 'model__learning_rate': 0.1}\n",
      "📊 Evaluation on Test Set:\n",
      "MAE: 353.50\n",
      "RMSE: 506.09\n",
      "R² Score: 1.00\n",
      "Fitting 3 folds for each of 10 candidates, totalling 30 fits\n",
      "\n",
      "✅ Gradient Boosting - Best Parameters:\n",
      "{'model__n_estimators': 200, 'model__max_depth': 5, 'model__learning_rate': 0.05}\n",
      "📊 Evaluation on Test Set:\n",
      "MAE: 368.04\n",
      "RMSE: 531.93\n",
      "R² Score: 1.00\n",
      "\n",
      "🏆 Best Regressor Based on RMSE: XGBoost\n"
     ]
    }
   ],
   "source": [
    "best_regressor_models = {}\n",
    "regression_results = {}\n",
    "\n",
    "for name, config in regressor_params.items():\n",
    "    # Delete existing runs for this model name\n",
    "    runs = client.search_runs(experiment_ids=[experiment_id], filter_string=f\"tag.mlflow.runName = '{name} Regressor Tuned'\")\n",
    "    for run in runs:\n",
    "        client.delete_run(run.info.run_id)\n",
    "\n",
    "    pipeline = Pipeline([\n",
    "        ('preprocessor', preprocessor),\n",
    "        ('model', config['model'][0])\n",
    "    ])\n",
    "\n",
    "    search = RandomizedSearchCV(\n",
    "        pipeline,\n",
    "        param_distributions=config['params'],\n",
    "        n_iter=10,\n",
    "        scoring='neg_root_mean_squared_error',\n",
    "        cv=3,\n",
    "        n_jobs=-1,\n",
    "        verbose=1,\n",
    "        random_state=42\n",
    "    )\n",
    "\n",
    "    with mlflow.start_run(run_name=f\"{name} Regressor Tuned\") as run:\n",
    "        search.fit(X_train, y_reg_train)\n",
    "        best_model = search.best_estimator_\n",
    "        best_regressor_models[name] = best_model\n",
    "\n",
    "        preds = best_model.predict(X_test)\n",
    "        mae = mean_absolute_error(y_reg_test, preds)\n",
    "        rmse = np.sqrt(mean_squared_error(y_reg_test, preds))\n",
    "        r2 = r2_score(y_reg_test, preds)\n",
    "\n",
    "        mlflow.log_param(\"model_name\", name)\n",
    "        mlflow.log_params(search.best_params_)\n",
    "        mlflow.log_metric(\"MAE\", mae)\n",
    "        mlflow.log_metric(\"RMSE\", rmse)\n",
    "        mlflow.log_metric(\"R2\", r2)\n",
    "\n",
    "        input_example = pd.DataFrame(X_test[:1], columns=X_test.columns)\n",
    "        signature = infer_signature(X_test, preds)\n",
    "        mlflow.sklearn.log_model(best_model, artifact_path=\"regression_model\", signature=signature, input_example=input_example)\n",
    "\n",
    "\n",
    "        regression_results[name] = {\"MAE\": mae, \"RMSE\": rmse, \"R2\": r2}\n",
    "\n",
    "        print(f\"\\n✅ {name} - Best Parameters:\")\n",
    "        print(search.best_params_)\n",
    "        print(f\"📊 Evaluation on Test Set:\")\n",
    "        print(f\"MAE: {mae:.2f}\")\n",
    "        print(f\"RMSE: {rmse:.2f}\")\n",
    "        print(f\"R² Score: {r2:.2f}\")\n",
    "\n",
    "# 🔝 Selecting Best Model Based on Lowest RMSE\n",
    "best_model_name = min(regression_results, key=lambda k: regression_results[k][\"RMSE\"])\n",
    "print(f\"\\n🏆 Best Regressor Based on RMSE: {best_model_name}\")"
   ]
  },
  {
   "cell_type": "markdown",
   "id": "97d30f49",
   "metadata": {},
   "source": [
    "Classification Models"
   ]
  },
  {
   "cell_type": "code",
   "execution_count": 30,
   "id": "27d380ea",
   "metadata": {},
   "outputs": [
    {
     "name": "stdout",
     "output_type": "stream",
     "text": [
      "Fitting 5 folds for each of 24 candidates, totalling 120 fits\n",
      "\n",
      "🔍 Best parameters for Random Forest:\n",
      "{'model__n_estimators': 200, 'model__min_samples_split': 2, 'model__min_samples_leaf': 1, 'model__max_depth': None}\n",
      "📈 Best F1 Score (CV): 0.96\n",
      "Fitting 5 folds for each of 25 candidates, totalling 125 fits\n",
      "\n",
      "🔍 Best parameters for XGBoost:\n",
      "{'model__subsample': 1.0, 'model__n_estimators': 200, 'model__max_depth': 5, 'model__learning_rate': 0.2}\n",
      "📈 Best F1 Score (CV): 0.98\n",
      "Fitting 5 folds for each of 8 candidates, totalling 40 fits\n",
      "\n",
      "🔍 Best parameters for Gradient Boosting:\n",
      "{'model__n_estimators': 100, 'model__max_depth': 3, 'model__learning_rate': 0.05}\n",
      "📈 Best F1 Score (CV): 0.97\n"
     ]
    }
   ],
   "source": [
    "# Defining hyperparameter spaces for classification models\n",
    "classifier_params = {\n",
    "    'Random Forest': {\n",
    "        'model': [RandomForestClassifier(random_state=42)],\n",
    "        'params': {\n",
    "            'model__n_estimators': [100, 200],\n",
    "            'model__max_depth': [None, 10, 20],\n",
    "            'model__min_samples_split': [2, 5],\n",
    "            'model__min_samples_leaf': [1, 2]\n",
    "        }\n",
    "    },\n",
    "    'XGBoost': {\n",
    "        'model': [XGBClassifier(random_state=42, use_label_encoder=False, eval_metric='mlogloss')],\n",
    "        'params': {\n",
    "            'model__n_estimators': [100, 200],\n",
    "            'model__max_depth': [3, 5, 7],\n",
    "            'model__learning_rate': [0.01, 0.1, 0.2],\n",
    "            'model__subsample': [0.8, 1.0]\n",
    "        }\n",
    "    },\n",
    "    'Gradient Boosting': {\n",
    "        'model': [GradientBoostingClassifier(random_state=42)],\n",
    "        'params': {\n",
    "            'model__n_estimators': [100, 200],\n",
    "            'model__learning_rate': [0.05, 0.1],\n",
    "            'model__max_depth': [3, 5]\n",
    "        }\n",
    "    }\n",
    "}\n",
    "\n",
    "# Running RandomizedSearchCV for each classifier\n",
    "for name, config in classifier_params.items():\n",
    "    pipe = Pipeline([\n",
    "        ('preprocessor', preprocessor),\n",
    "        ('model', config['model'][0])\n",
    "    ])\n",
    "    \n",
    "    search = RandomizedSearchCV(pipe, config['params'], n_iter=25, cv=5,\n",
    "                                scoring='f1_weighted', random_state=42,\n",
    "                                verbose=1, n_jobs=-1)\n",
    "    search.fit(X_train, y_cls_train)\n",
    "\n",
    "    print(f\"\\n🔍 Best parameters for {name}:\")\n",
    "    print(search.best_params_)\n",
    "    print(f\"📈 Best F1 Score (CV): {search.best_score_:.2f}\")"
   ]
  },
  {
   "cell_type": "markdown",
   "id": "25d7fb8d",
   "metadata": {},
   "source": [
    "Best Model Tracking(Classification) + MLflow Logging"
   ]
  },
  {
   "cell_type": "code",
   "execution_count": 31,
   "id": "94bdb832",
   "metadata": {},
   "outputs": [
    {
     "name": "stdout",
     "output_type": "stream",
     "text": [
      "Fitting 3 folds for each of 10 candidates, totalling 30 fits\n",
      "\n",
      "✅ Random Forest - Best Parameters:\n",
      "{'model__n_estimators': 200, 'model__min_samples_split': 2, 'model__min_samples_leaf': 1, 'model__max_depth': None}\n",
      "📊 Evaluation on Test Set:\n",
      "Accuracy: 0.93\n",
      "F1 Score: 0.93\n",
      "              precision    recall  f1-score   support\n",
      "\n",
      "           0       0.97      0.95      0.96        62\n",
      "           1       0.94      0.93      0.94        55\n",
      "           2       0.90      0.92      0.91        65\n",
      "\n",
      "    accuracy                           0.93       182\n",
      "   macro avg       0.94      0.93      0.93       182\n",
      "weighted avg       0.93      0.93      0.93       182\n",
      "\n"
     ]
    },
    {
     "data": {
      "image/png": "[encoded data removed]",
      "text/plain": [
       "<Figure size 640x480 with 2 Axes>"
      ]
     },
     "metadata": {},
     "output_type": "display_data"
    },
    {
     "name": "stdout",
     "output_type": "stream",
     "text": [
      "Fitting 3 folds for each of 10 candidates, totalling 30 fits\n",
      "\n",
      "✅ XGBoost - Best Parameters:\n",
      "{'model__subsample': 1.0, 'model__n_estimators': 100, 'model__max_depth': 5, 'model__learning_rate': 0.1}\n",
      "📊 Evaluation on Test Set:\n",
      "Accuracy: 0.95\n",
      "F1 Score: 0.95\n",
      "              precision    recall  f1-score   support\n",
      "\n",
      "           0       0.98      0.97      0.98        62\n",
      "           1       0.96      0.91      0.93        55\n",
      "           2       0.90      0.95      0.93        65\n",
      "\n",
      "    accuracy                           0.95       182\n",
      "   macro avg       0.95      0.94      0.95       182\n",
      "weighted avg       0.95      0.95      0.95       182\n",
      "\n"
     ]
    },
    {
     "data": {
      "image/png": "[encoded data removed]",
      "text/plain": [
       "<Figure size 640x480 with 2 Axes>"
      ]
     },
     "metadata": {},
     "output_type": "display_data"
    },
    {
     "name": "stdout",
     "output_type": "stream",
     "text": [
      "Fitting 3 folds for each of 8 candidates, totalling 24 fits\n",
      "\n",
      "✅ Gradient Boosting - Best Parameters:\n",
      "{'model__n_estimators': 200, 'model__max_depth': 5, 'model__learning_rate': 0.05}\n",
      "📊 Evaluation on Test Set:\n",
      "Accuracy: 0.92\n",
      "F1 Score: 0.92\n",
      "              precision    recall  f1-score   support\n",
      "\n",
      "           0       1.00      0.94      0.97        62\n",
      "           1       0.92      0.89      0.91        55\n",
      "           2       0.86      0.94      0.90        65\n",
      "\n",
      "    accuracy                           0.92       182\n",
      "   macro avg       0.93      0.92      0.92       182\n",
      "weighted avg       0.93      0.92      0.92       182\n",
      "\n"
     ]
    },
    {
     "data": {
      "image/png": "[encoded data removed]",
      "text/plain": [
       "<Figure size 640x480 with 2 Axes>"
      ]
     },
     "metadata": {},
     "output_type": "display_data"
    },
    {
     "name": "stdout",
     "output_type": "stream",
     "text": [
      "\n",
      "🏆 Best Classifier Based on F1 Score: XGBoost\n"
     ]
    }
   ],
   "source": [
    "best_classifier_models = {}\n",
    "classification_results = {}\n",
    "\n",
    "for name, config in classifier_params.items():\n",
    "    # Delete existing runs for this model name\n",
    "    runs = client.search_runs(experiment_ids=[experiment_id], filter_string=f\"tag.mlflow.runName = '{name} Classifier Tuned'\")\n",
    "    for run in runs:\n",
    "        client.delete_run(run.info.run_id)\n",
    "\n",
    "    pipeline = Pipeline([\n",
    "        ('preprocessor', preprocessor),\n",
    "        ('model', config['model'][0])\n",
    "    ])\n",
    "\n",
    "    search = RandomizedSearchCV(\n",
    "        pipeline,\n",
    "        param_distributions=config['params'],\n",
    "        n_iter=10,\n",
    "        scoring='f1_weighted',\n",
    "        cv=3,\n",
    "        n_jobs=-1,\n",
    "        verbose=1,\n",
    "        random_state=42\n",
    "    )\n",
    "\n",
    "    with mlflow.start_run(run_name=f\"{name} Classifier Tuned\") as run:\n",
    "        search.fit(X_train, y_cls_train)\n",
    "        best_model = search.best_estimator_\n",
    "        best_classifier_models[name] = best_model\n",
    "\n",
    "        preds = best_model.predict(X_test)\n",
    "        acc = accuracy_score(y_cls_test, preds)\n",
    "        f1 = f1_score(y_cls_test, preds, average='weighted')\n",
    "\n",
    "        mlflow.log_param(\"model_name\", name)\n",
    "        mlflow.log_params(search.best_params_)\n",
    "        mlflow.log_metric(\"Accuracy\", acc)\n",
    "        mlflow.log_metric(\"F1 Score\", f1)\n",
    "\n",
    "        input_example = pd.DataFrame(X_test[:1], columns=X_test.columns)\n",
    "        signature = infer_signature(X_test, preds)\n",
    "        mlflow.sklearn.log_model(best_model, artifact_path=\"classification_model\", signature=signature, input_example=input_example)\n",
    "\n",
    "        classification_results[name] = {\"Accuracy\": acc, \"F1 Score\": f1}\n",
    "\n",
    "        print(f\"\\n✅ {name} - Best Parameters:\")\n",
    "        print(search.best_params_)\n",
    "        print(f\"📊 Evaluation on Test Set:\")\n",
    "        print(f\"Accuracy: {acc:.2f}\")\n",
    "        print(f\"F1 Score: {f1:.2f}\")\n",
    "        print(classification_report(y_cls_test, preds))\n",
    "\n",
    "        cm = confusion_matrix(y_cls_test, preds)\n",
    "        disp = ConfusionMatrixDisplay(confusion_matrix=cm, display_labels=le.classes_)\n",
    "        disp.plot(cmap='Blues')\n",
    "        plt.title(f\"{name} - Confusion Matrix\")\n",
    "        plt.show()\n",
    "\n",
    "# 🔝 Selecting Best Classifier Based on Highest F1 Score\n",
    "best_cls_model_name = max(classification_results, key=lambda k: classification_results[k][\"F1 Score\"])\n",
    "print(f\"\\n🏆 Best Classifier Based on F1 Score: {best_cls_model_name}\")"
   ]
  },
  {
   "cell_type": "markdown",
   "id": "7b753c58",
   "metadata": {},
   "source": [
    "Saving results in CSV file"
   ]
  },
  {
   "cell_type": "code",
   "execution_count": 32,
   "id": "4798a863",
   "metadata": {},
   "outputs": [
    {
     "name": "stdout",
     "output_type": "stream",
     "text": [
      "✅ Saved regression results to model_runs\\regression_model_results_20250702_194421.csv\n",
      "✅ Saved classification results to model_runs\\classification_model_results_20250702_194421.csv\n"
     ]
    }
   ],
   "source": [
    "from mlflow.tracking import MlflowClient\n",
    "from datetime import datetime\n",
    "import os\n",
    "\n",
    "# Initialize MLflow client and experiment\n",
    "client = MlflowClient()\n",
    "experiment_name = \"EduSpend_Predictive_Models\"\n",
    "experiment_id = client.get_experiment_by_name(experiment_name).experiment_id\n",
    "runs = client.search_runs(experiment_ids=[experiment_id])\n",
    "\n",
    "# Create results directory if it doesn't exist\n",
    "results_dir = \"model_runs\"\n",
    "os.makedirs(results_dir, exist_ok=True)\n",
    "\n",
    "# Get timestamp for saving\n",
    "timestamp = datetime.now().strftime(\"%Y%m%d_%H%M%S\")\n",
    "\n",
    "# === Regressor Models ===\n",
    "regression_data = []\n",
    "for run in runs:\n",
    "    name = run.data.tags.get(\"mlflow.runName\", \"\")\n",
    "    if \"Regressor Tuned\" in name:\n",
    "        regression_data.append({\n",
    "            \"Model\": name.replace(\" Regressor Tuned\", \"\"),\n",
    "            \"MAE\": run.data.metrics.get(\"MAE\"),\n",
    "            \"RMSE\": run.data.metrics.get(\"RMSE\"),\n",
    "            \"R2\": run.data.metrics.get(\"R2\"),\n",
    "            \"Run ID\": run.info.run_id,\n",
    "            \"Run Name\": name,\n",
    "            \"Experiment Name\": experiment_name\n",
    "        })\n",
    "\n",
    "regression_df = pd.DataFrame(regression_data)\n",
    "if not regression_df.empty:\n",
    "    best_reg_index = regression_df[\"RMSE\"].idxmin()\n",
    "    regression_df[\"Best_Model\"] = False\n",
    "    regression_df.loc[best_reg_index, \"Best_Model\"] = True\n",
    "\n",
    "    reg_filename = os.path.join(results_dir, f\"regression_model_results_{timestamp}.csv\")\n",
    "    regression_df.to_csv(reg_filename, index=False)\n",
    "    print(f\"✅ Saved regression results to {reg_filename}\")\n",
    "else:\n",
    "    print(\"⚠️ No regression tuned runs found.\")\n",
    "\n",
    "# === Classifier Models ===\n",
    "classification_data = []\n",
    "for run in runs:\n",
    "    name = run.data.tags.get(\"mlflow.runName\", \"\")\n",
    "    if \"Classifier Tuned\" in name:\n",
    "        classification_data.append({\n",
    "            \"Model\": name.replace(\" Classifier Tuned\", \"\"),\n",
    "            \"Accuracy\": run.data.metrics.get(\"Accuracy\"),\n",
    "            \"F1 Score\": run.data.metrics.get(\"F1 Score\"),\n",
    "            \"Run ID\": run.info.run_id,\n",
    "            \"Run Name\": name,\n",
    "            \"Experiment Name\": experiment_name\n",
    "        })\n",
    "\n",
    "classification_df = pd.DataFrame(classification_data)\n",
    "if not classification_df.empty:\n",
    "    best_cls_index = classification_df[\"F1 Score\"].idxmax()\n",
    "    classification_df[\"Best_Model\"] = False\n",
    "    classification_df.loc[best_cls_index, \"Best_Model\"] = True\n",
    "\n",
    "    cls_filename = os.path.join(results_dir, f\"classification_model_results_{timestamp}.csv\")\n",
    "    classification_df.to_csv(cls_filename, index=False)\n",
    "    print(f\"✅ Saved classification results to {cls_filename}\")\n",
    "else:\n",
    "    print(\"⚠️ No classification tuned runs found.\")"
   ]
  },
  {
   "cell_type": "markdown",
   "id": "64038178",
   "metadata": {},
   "source": [
    "Saving best models separately for deployment"
   ]
  },
  {
   "cell_type": "code",
   "execution_count": 33,
   "id": "98ae92cd",
   "metadata": {},
   "outputs": [
    {
     "name": "stdout",
     "output_type": "stream",
     "text": [
      "⚠️ Regressor already exists at: deployment_models\\best_regressor.pkl — skipping save.\n",
      "⚠️ Classifier already exists at: deployment_models\\best_classifier.pkl — skipping save.\n"
     ]
    }
   ],
   "source": [
    "import joblib\n",
    "import os\n",
    "\n",
    "# Create output directory if it doesn't exist\n",
    "os.makedirs(\"deployment_models\", exist_ok=True)\n",
    "\n",
    "# Paths to save models\n",
    "best_regressor_path = os.path.join(\"deployment_models\", \"best_regressor.pkl\")\n",
    "best_classifier_path = os.path.join(\"deployment_models\", \"best_classifier.pkl\")\n",
    "\n",
    "# Save Best Regressor if not already saved\n",
    "if not os.path.exists(best_regressor_path):\n",
    "    joblib.dump(best_regressor_models[best_model_name], best_regressor_path)\n",
    "    print(f\"✅ Best Regressor saved to: {best_regressor_path}\")\n",
    "else:\n",
    "    print(f\"⚠️ Regressor already exists at: {best_regressor_path} — skipping save.\")\n",
    "\n",
    "# Save Best Classifier if not already saved\n",
    "if not os.path.exists(best_classifier_path):\n",
    "    joblib.dump(best_classifier_models[best_cls_model_name], best_classifier_path)\n",
    "    print(f\"✅ Best Classifier saved to: {best_classifier_path}\")\n",
    "else:\n",
    "    print(f\"⚠️ Classifier already exists at: {best_classifier_path} — skipping save.\")"
   ]
  },
  {
   "cell_type": "markdown",
   "id": "94d34975",
   "metadata": {},
   "source": [
    "## ✅ Project Summary: EduSpend — Phase 1 & 2\n",
    "\n",
    "### 📌 Objective\n",
    "This notebook demonstrates the end-to-end development of predictive models to analyze and forecast the **Total Cost of Attendance (TCA)** for international education. The goal is to support informed planning and decision-making for students, advisors, and institutions by transforming raw cost data into actionable insights.\n",
    "\n",
    "---\n",
    "\n",
    "### 🔍 Phase 1: Data Exploration & Affordability Profiling\n",
    "\n",
    "- Loaded and explored the `International_Education_Costs.csv` dataset.\n",
    "- Handled missing values, verified data types, and assessed feature distributions.\n",
    "- Computed the **Total Cost of Attendance (TCA)** using tuition, rent, visa, and insurance components, assuming a 1-year program and 12-month rental duration.\n",
    "- Visualized cost structures by **Country** and **Degree Level** using bar and box plots.\n",
    "- Created affordability tiers (Low / Medium / High) using TCA quantiles.\n",
    "- Plotted TCA distributions across these affordability classes.\n",
    "\n",
    "---\n",
    "\n",
    "### 🧱 Phase 2: Feature Engineering & Model Development\n",
    "\n",
    "#### ✨ Feature Engineering\n",
    "- Encoded categorical features using `OneHotEncoder` and scaled numerical variables with `StandardScaler` via a `ColumnTransformer`.\n",
    "- Split the dataset into training and testing subsets.\n",
    "- Encoded affordability labels using `LabelEncoder`.\n",
    "\n",
    "#### 🔁 Regression Modeling (TCA Prediction)\n",
    "- Trained and evaluated 3 regressors: **Random Forest**, **XGBoost**, and **Gradient Boosting**.\n",
    "- Used `MAE`, `RMSE`, and `R²` to evaluate performance on the test set.\n",
    "- Performed hyperparameter tuning using `RandomizedSearchCV`.\n",
    "- Tracked all models in **MLflow**, including best hyperparameters and metrics.\n",
    "- Selected the **best regressor** based on lowest RMSE.\n",
    "\n",
    "#### 🧠 Classification Modeling (Affordability Tier)\n",
    "- Trained and evaluated the same 3 classifiers on the encoded tiers.\n",
    "- Used `Accuracy` and `F1 Score` for model evaluation.\n",
    "- Performed hyperparameter tuning with `RandomizedSearchCV`.\n",
    "- Visualized confusion matrices and generated classification reports.\n",
    "- Logged all results to **MLflow** and selected the **best classifier** based on highest F1 Score.\n",
    "\n",
    "#### 🎯 Clustering\n",
    "- Applied `KMeans` clustering to scaled features.\n",
    "- Reduced dimensionality with `PCA` and visualized cost-based segments of destinations.\n",
    "\n",
    "---\n",
    "\n",
    "### 📈 Model Tracking & Auto-Selection with MLflow\n",
    "\n",
    "- All models (baseline and tuned) were logged with full evaluation metrics, parameters, and input signatures.\n",
    "- Automatically selected the **best-performing regressor and classifier** using MLflow's stored metrics.\n",
    "- Visualized model performance using bar charts for easy comparison.\n",
    "\n",
    "---\n",
    "\n",
    "### ✅ Outcome\n",
    "By the end of this notebook:\n",
    "- We've built a robust and reusable ML pipeline for both regression and classification tasks.\n",
    "- The results are tracked, reproducible, and performance-optimized.\n",
    "- These models form the foundation for downstream deployment in a **Streamlit Budget Planner**.\n",
    "\n",
    "---\n",
    "\n",
    "> 📦 Next: Phase 3 — Deploy the selected models in a user-friendly Streamlit interface for real-time forecasting and exploration."
   ]
  }
 ],
 "metadata": {
  "kernelspec": {
   "display_name": "eduspend1",
   "language": "python",
   "name": "python3"
  },
  "language_info": {
   "codemirror_mode": {
    "name": "ipython",
    "version": 3
   },
   "file_extension": ".py",
   "mimetype": "text/x-python",
   "name": "python",
   "nbconvert_exporter": "python",
   "pygments_lexer": "ipython3",
   "version": "3.10.18"
  }
 },
 "nbformat": 4,
 "nbformat_minor": 5
}
